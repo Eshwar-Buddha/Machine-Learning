{
 "cells": [
  {
   "cell_type": "markdown",
   "id": "643f89d9",
   "metadata": {},
   "source": [
    "# 🧑‍🎓 Student Version — Solutions Removed\n",
    "- Use the reflection prompts and hints.\n",
    "- Your instructor will share solutions separately."
   ]
  },
  {
   "cell_type": "code",
   "execution_count": 170,
   "id": "fca450ec",
   "metadata": {},
   "outputs": [
    {
     "name": "stdout",
     "output_type": "stream",
     "text": [
      "Solutions are hidden in the Student Version.\n"
     ]
    }
   ],
   "source": [
    "REVEAL_SOLUTIONS = False\n",
    "print('Solutions are hidden in the Student Version.')"
   ]
  },
  {
   "cell_type": "markdown",
   "id": "d7935cd2",
   "metadata": {},
   "source": [
    "# Pandas in Google Colab — 2-Hour Hands-On (+ Advanced & Capstone)\n",
    "**With Reflection Prompts After Each Section**\n",
    "**Last updated:** 2025-08-15\n",
    "\n",
    "Run top-to-bottom. Attempt **Exercises**, then write your **✍️ Analysis** under each section."
   ]
  },
  {
   "cell_type": "markdown",
   "id": "bb8c4df2",
   "metadata": {},
   "source": [
    "## 0) Setup & Load the **tips** dataset (10m)"
   ]
  },
  {
   "cell_type": "code",
   "execution_count": 171,
   "id": "39a9b80d",
   "metadata": {},
   "outputs": [
    {
     "data": {
      "text/html": [
       "<div>\n",
       "<style scoped>\n",
       "    .dataframe tbody tr th:only-of-type {\n",
       "        vertical-align: middle;\n",
       "    }\n",
       "\n",
       "    .dataframe tbody tr th {\n",
       "        vertical-align: top;\n",
       "    }\n",
       "\n",
       "    .dataframe thead th {\n",
       "        text-align: right;\n",
       "    }\n",
       "</style>\n",
       "<table border=\"1\" class=\"dataframe\">\n",
       "  <thead>\n",
       "    <tr style=\"text-align: right;\">\n",
       "      <th></th>\n",
       "      <th>total_bill</th>\n",
       "      <th>tip</th>\n",
       "      <th>sex</th>\n",
       "      <th>smoker</th>\n",
       "      <th>day</th>\n",
       "      <th>time</th>\n",
       "      <th>size</th>\n",
       "    </tr>\n",
       "  </thead>\n",
       "  <tbody>\n",
       "    <tr>\n",
       "      <th>0</th>\n",
       "      <td>16.99</td>\n",
       "      <td>1.01</td>\n",
       "      <td>Female</td>\n",
       "      <td>No</td>\n",
       "      <td>Sun</td>\n",
       "      <td>Dinner</td>\n",
       "      <td>2</td>\n",
       "    </tr>\n",
       "    <tr>\n",
       "      <th>1</th>\n",
       "      <td>10.34</td>\n",
       "      <td>1.66</td>\n",
       "      <td>Male</td>\n",
       "      <td>No</td>\n",
       "      <td>Sun</td>\n",
       "      <td>Dinner</td>\n",
       "      <td>3</td>\n",
       "    </tr>\n",
       "    <tr>\n",
       "      <th>2</th>\n",
       "      <td>21.01</td>\n",
       "      <td>3.50</td>\n",
       "      <td>Male</td>\n",
       "      <td>No</td>\n",
       "      <td>Sun</td>\n",
       "      <td>Dinner</td>\n",
       "      <td>3</td>\n",
       "    </tr>\n",
       "    <tr>\n",
       "      <th>3</th>\n",
       "      <td>23.68</td>\n",
       "      <td>3.31</td>\n",
       "      <td>Male</td>\n",
       "      <td>No</td>\n",
       "      <td>Sun</td>\n",
       "      <td>Dinner</td>\n",
       "      <td>2</td>\n",
       "    </tr>\n",
       "    <tr>\n",
       "      <th>4</th>\n",
       "      <td>24.59</td>\n",
       "      <td>3.61</td>\n",
       "      <td>Female</td>\n",
       "      <td>No</td>\n",
       "      <td>Sun</td>\n",
       "      <td>Dinner</td>\n",
       "      <td>4</td>\n",
       "    </tr>\n",
       "  </tbody>\n",
       "</table>\n",
       "</div>"
      ],
      "text/plain": [
       "   total_bill   tip     sex smoker  day    time  size\n",
       "0       16.99  1.01  Female     No  Sun  Dinner     2\n",
       "1       10.34  1.66    Male     No  Sun  Dinner     3\n",
       "2       21.01  3.50    Male     No  Sun  Dinner     3\n",
       "3       23.68  3.31    Male     No  Sun  Dinner     2\n",
       "4       24.59  3.61  Female     No  Sun  Dinner     4"
      ]
     },
     "execution_count": 171,
     "metadata": {},
     "output_type": "execute_result"
    }
   ],
   "source": [
    "import pandas as pd, numpy as np, matplotlib.pyplot as plt\n",
    "pd.set_option('display.max_rows', 10); pd.set_option('display.precision', 3)\n",
    "url = \"https://raw.githubusercontent.com/mwaskom/seaborn-data/master/tips.csv\"\n",
    "tips = pd.read_csv(url); tips.head()"
   ]
  },
  {
   "cell_type": "code",
   "execution_count": 172,
   "id": "9997cb23",
   "metadata": {},
   "outputs": [
    {
     "name": "stdout",
     "output_type": "stream",
     "text": [
      "Shape: (244, 7)\n",
      "\n",
      "Info:\n",
      "<class 'pandas.core.frame.DataFrame'>\n",
      "RangeIndex: 244 entries, 0 to 243\n",
      "Data columns (total 7 columns):\n",
      " #   Column      Non-Null Count  Dtype  \n",
      "---  ------      --------------  -----  \n",
      " 0   total_bill  244 non-null    float64\n",
      " 1   tip         244 non-null    float64\n",
      " 2   sex         244 non-null    object \n",
      " 3   smoker      244 non-null    object \n",
      " 4   day         244 non-null    object \n",
      " 5   time        244 non-null    object \n",
      " 6   size        244 non-null    int64  \n",
      "dtypes: float64(2), int64(1), object(4)\n",
      "memory usage: 13.5+ KB\n",
      "None\n",
      "\n",
      "Describe:\n"
     ]
    },
    {
     "data": {
      "text/html": [
       "<div>\n",
       "<style scoped>\n",
       "    .dataframe tbody tr th:only-of-type {\n",
       "        vertical-align: middle;\n",
       "    }\n",
       "\n",
       "    .dataframe tbody tr th {\n",
       "        vertical-align: top;\n",
       "    }\n",
       "\n",
       "    .dataframe thead th {\n",
       "        text-align: right;\n",
       "    }\n",
       "</style>\n",
       "<table border=\"1\" class=\"dataframe\">\n",
       "  <thead>\n",
       "    <tr style=\"text-align: right;\">\n",
       "      <th></th>\n",
       "      <th>total_bill</th>\n",
       "      <th>tip</th>\n",
       "      <th>sex</th>\n",
       "      <th>smoker</th>\n",
       "      <th>day</th>\n",
       "      <th>time</th>\n",
       "      <th>size</th>\n",
       "    </tr>\n",
       "  </thead>\n",
       "  <tbody>\n",
       "    <tr>\n",
       "      <th>count</th>\n",
       "      <td>244.000</td>\n",
       "      <td>244.000</td>\n",
       "      <td>244</td>\n",
       "      <td>244</td>\n",
       "      <td>244</td>\n",
       "      <td>244</td>\n",
       "      <td>244.00</td>\n",
       "    </tr>\n",
       "    <tr>\n",
       "      <th>unique</th>\n",
       "      <td>NaN</td>\n",
       "      <td>NaN</td>\n",
       "      <td>2</td>\n",
       "      <td>2</td>\n",
       "      <td>4</td>\n",
       "      <td>2</td>\n",
       "      <td>NaN</td>\n",
       "    </tr>\n",
       "    <tr>\n",
       "      <th>top</th>\n",
       "      <td>NaN</td>\n",
       "      <td>NaN</td>\n",
       "      <td>Male</td>\n",
       "      <td>No</td>\n",
       "      <td>Sat</td>\n",
       "      <td>Dinner</td>\n",
       "      <td>NaN</td>\n",
       "    </tr>\n",
       "    <tr>\n",
       "      <th>freq</th>\n",
       "      <td>NaN</td>\n",
       "      <td>NaN</td>\n",
       "      <td>157</td>\n",
       "      <td>151</td>\n",
       "      <td>87</td>\n",
       "      <td>176</td>\n",
       "      <td>NaN</td>\n",
       "    </tr>\n",
       "    <tr>\n",
       "      <th>mean</th>\n",
       "      <td>19.786</td>\n",
       "      <td>2.998</td>\n",
       "      <td>NaN</td>\n",
       "      <td>NaN</td>\n",
       "      <td>NaN</td>\n",
       "      <td>NaN</td>\n",
       "      <td>2.57</td>\n",
       "    </tr>\n",
       "    <tr>\n",
       "      <th>...</th>\n",
       "      <td>...</td>\n",
       "      <td>...</td>\n",
       "      <td>...</td>\n",
       "      <td>...</td>\n",
       "      <td>...</td>\n",
       "      <td>...</td>\n",
       "      <td>...</td>\n",
       "    </tr>\n",
       "    <tr>\n",
       "      <th>min</th>\n",
       "      <td>3.070</td>\n",
       "      <td>1.000</td>\n",
       "      <td>NaN</td>\n",
       "      <td>NaN</td>\n",
       "      <td>NaN</td>\n",
       "      <td>NaN</td>\n",
       "      <td>1.00</td>\n",
       "    </tr>\n",
       "    <tr>\n",
       "      <th>25%</th>\n",
       "      <td>13.348</td>\n",
       "      <td>2.000</td>\n",
       "      <td>NaN</td>\n",
       "      <td>NaN</td>\n",
       "      <td>NaN</td>\n",
       "      <td>NaN</td>\n",
       "      <td>2.00</td>\n",
       "    </tr>\n",
       "    <tr>\n",
       "      <th>50%</th>\n",
       "      <td>17.795</td>\n",
       "      <td>2.900</td>\n",
       "      <td>NaN</td>\n",
       "      <td>NaN</td>\n",
       "      <td>NaN</td>\n",
       "      <td>NaN</td>\n",
       "      <td>2.00</td>\n",
       "    </tr>\n",
       "    <tr>\n",
       "      <th>75%</th>\n",
       "      <td>24.127</td>\n",
       "      <td>3.562</td>\n",
       "      <td>NaN</td>\n",
       "      <td>NaN</td>\n",
       "      <td>NaN</td>\n",
       "      <td>NaN</td>\n",
       "      <td>3.00</td>\n",
       "    </tr>\n",
       "    <tr>\n",
       "      <th>max</th>\n",
       "      <td>50.810</td>\n",
       "      <td>10.000</td>\n",
       "      <td>NaN</td>\n",
       "      <td>NaN</td>\n",
       "      <td>NaN</td>\n",
       "      <td>NaN</td>\n",
       "      <td>6.00</td>\n",
       "    </tr>\n",
       "  </tbody>\n",
       "</table>\n",
       "<p>11 rows × 7 columns</p>\n",
       "</div>"
      ],
      "text/plain": [
       "        total_bill      tip   sex smoker  day    time    size\n",
       "count      244.000  244.000   244    244  244     244  244.00\n",
       "unique         NaN      NaN     2      2    4       2     NaN\n",
       "top            NaN      NaN  Male     No  Sat  Dinner     NaN\n",
       "freq           NaN      NaN   157    151   87     176     NaN\n",
       "mean        19.786    2.998   NaN    NaN  NaN     NaN    2.57\n",
       "...            ...      ...   ...    ...  ...     ...     ...\n",
       "min          3.070    1.000   NaN    NaN  NaN     NaN    1.00\n",
       "25%         13.348    2.000   NaN    NaN  NaN     NaN    2.00\n",
       "50%         17.795    2.900   NaN    NaN  NaN     NaN    2.00\n",
       "75%         24.127    3.562   NaN    NaN  NaN     NaN    3.00\n",
       "max         50.810   10.000   NaN    NaN  NaN     NaN    6.00\n",
       "\n",
       "[11 rows x 7 columns]"
      ]
     },
     "metadata": {},
     "output_type": "display_data"
    }
   ],
   "source": [
    "print(\"Shape:\", tips.shape)\n",
    "print(\"\\nInfo:\"); print(tips.info())\n",
    "print(\"\\nDescribe:\"); display(tips.describe(include='all'))"
   ]
  },
  {
   "cell_type": "markdown",
   "id": "c5337d92",
   "metadata": {},
   "source": [
    "**Columns**: `total_bill` (float), `tip` (float), `sex` (str), `smoker` (str), `day` (str), `time` (str), `size` (int)"
   ]
  },
  {
   "cell_type": "markdown",
   "id": "5d7225f9",
   "metadata": {},
   "source": [
    "### ✅ Exercise 0\n",
    "1) Unique `day`, `time`. 2) Count duplicates. 3) Averages of `total_bill`, `tip`."
   ]
  },
  {
   "cell_type": "markdown",
   "id": "69d928b2",
   "metadata": {},
   "source": [
    "**Hints:**\n",
    "- Concept: inspect levels and duplicates.\n",
    "- API: `unique`, `duplicated`, `mean`.\n"
   ]
  },
  {
   "cell_type": "code",
   "execution_count": 173,
   "id": "6b66f701",
   "metadata": {},
   "outputs": [
    {
     "name": "stdout",
     "output_type": "stream",
     "text": [
      "\n",
      "Describe:\n"
     ]
    },
    {
     "data": {
      "text/html": [
       "<div>\n",
       "<style scoped>\n",
       "    .dataframe tbody tr th:only-of-type {\n",
       "        vertical-align: middle;\n",
       "    }\n",
       "\n",
       "    .dataframe tbody tr th {\n",
       "        vertical-align: top;\n",
       "    }\n",
       "\n",
       "    .dataframe thead th {\n",
       "        text-align: right;\n",
       "    }\n",
       "</style>\n",
       "<table border=\"1\" class=\"dataframe\">\n",
       "  <thead>\n",
       "    <tr style=\"text-align: right;\">\n",
       "      <th></th>\n",
       "      <th>total_bill</th>\n",
       "      <th>tip</th>\n",
       "      <th>sex</th>\n",
       "      <th>smoker</th>\n",
       "      <th>day</th>\n",
       "      <th>time</th>\n",
       "      <th>size</th>\n",
       "    </tr>\n",
       "  </thead>\n",
       "  <tbody>\n",
       "    <tr>\n",
       "      <th>count</th>\n",
       "      <td>244.000</td>\n",
       "      <td>244.000</td>\n",
       "      <td>244</td>\n",
       "      <td>244</td>\n",
       "      <td>244</td>\n",
       "      <td>244</td>\n",
       "      <td>244.00</td>\n",
       "    </tr>\n",
       "    <tr>\n",
       "      <th>unique</th>\n",
       "      <td>NaN</td>\n",
       "      <td>NaN</td>\n",
       "      <td>2</td>\n",
       "      <td>2</td>\n",
       "      <td>4</td>\n",
       "      <td>2</td>\n",
       "      <td>NaN</td>\n",
       "    </tr>\n",
       "    <tr>\n",
       "      <th>top</th>\n",
       "      <td>NaN</td>\n",
       "      <td>NaN</td>\n",
       "      <td>Male</td>\n",
       "      <td>No</td>\n",
       "      <td>Sat</td>\n",
       "      <td>Dinner</td>\n",
       "      <td>NaN</td>\n",
       "    </tr>\n",
       "    <tr>\n",
       "      <th>freq</th>\n",
       "      <td>NaN</td>\n",
       "      <td>NaN</td>\n",
       "      <td>157</td>\n",
       "      <td>151</td>\n",
       "      <td>87</td>\n",
       "      <td>176</td>\n",
       "      <td>NaN</td>\n",
       "    </tr>\n",
       "    <tr>\n",
       "      <th>mean</th>\n",
       "      <td>19.786</td>\n",
       "      <td>2.998</td>\n",
       "      <td>NaN</td>\n",
       "      <td>NaN</td>\n",
       "      <td>NaN</td>\n",
       "      <td>NaN</td>\n",
       "      <td>2.57</td>\n",
       "    </tr>\n",
       "    <tr>\n",
       "      <th>...</th>\n",
       "      <td>...</td>\n",
       "      <td>...</td>\n",
       "      <td>...</td>\n",
       "      <td>...</td>\n",
       "      <td>...</td>\n",
       "      <td>...</td>\n",
       "      <td>...</td>\n",
       "    </tr>\n",
       "    <tr>\n",
       "      <th>min</th>\n",
       "      <td>3.070</td>\n",
       "      <td>1.000</td>\n",
       "      <td>NaN</td>\n",
       "      <td>NaN</td>\n",
       "      <td>NaN</td>\n",
       "      <td>NaN</td>\n",
       "      <td>1.00</td>\n",
       "    </tr>\n",
       "    <tr>\n",
       "      <th>25%</th>\n",
       "      <td>13.348</td>\n",
       "      <td>2.000</td>\n",
       "      <td>NaN</td>\n",
       "      <td>NaN</td>\n",
       "      <td>NaN</td>\n",
       "      <td>NaN</td>\n",
       "      <td>2.00</td>\n",
       "    </tr>\n",
       "    <tr>\n",
       "      <th>50%</th>\n",
       "      <td>17.795</td>\n",
       "      <td>2.900</td>\n",
       "      <td>NaN</td>\n",
       "      <td>NaN</td>\n",
       "      <td>NaN</td>\n",
       "      <td>NaN</td>\n",
       "      <td>2.00</td>\n",
       "    </tr>\n",
       "    <tr>\n",
       "      <th>75%</th>\n",
       "      <td>24.127</td>\n",
       "      <td>3.562</td>\n",
       "      <td>NaN</td>\n",
       "      <td>NaN</td>\n",
       "      <td>NaN</td>\n",
       "      <td>NaN</td>\n",
       "      <td>3.00</td>\n",
       "    </tr>\n",
       "    <tr>\n",
       "      <th>max</th>\n",
       "      <td>50.810</td>\n",
       "      <td>10.000</td>\n",
       "      <td>NaN</td>\n",
       "      <td>NaN</td>\n",
       "      <td>NaN</td>\n",
       "      <td>NaN</td>\n",
       "      <td>6.00</td>\n",
       "    </tr>\n",
       "  </tbody>\n",
       "</table>\n",
       "<p>11 rows × 7 columns</p>\n",
       "</div>"
      ],
      "text/plain": [
       "        total_bill      tip   sex smoker  day    time    size\n",
       "count      244.000  244.000   244    244  244     244  244.00\n",
       "unique         NaN      NaN     2      2    4       2     NaN\n",
       "top            NaN      NaN  Male     No  Sat  Dinner     NaN\n",
       "freq           NaN      NaN   157    151   87     176     NaN\n",
       "mean        19.786    2.998   NaN    NaN  NaN     NaN    2.57\n",
       "...            ...      ...   ...    ...  ...     ...     ...\n",
       "min          3.070    1.000   NaN    NaN  NaN     NaN    1.00\n",
       "25%         13.348    2.000   NaN    NaN  NaN     NaN    2.00\n",
       "50%         17.795    2.900   NaN    NaN  NaN     NaN    2.00\n",
       "75%         24.127    3.562   NaN    NaN  NaN     NaN    3.00\n",
       "max         50.810   10.000   NaN    NaN  NaN     NaN    6.00\n",
       "\n",
       "[11 rows x 7 columns]"
      ]
     },
     "metadata": {},
     "output_type": "display_data"
    }
   ],
   "source": [
    "tips['day'].unique(), tips['time'].unique()\n",
    "tips.duplicated().count()\n",
    "tips[['total_bill','tip']].mean(numeric_only=True)\n",
    "print(\"\\nDescribe:\"); display(tips.describe(include='all'))\n"
   ]
  },
  {
   "cell_type": "markdown",
   "id": "23374698",
   "metadata": {},
   "source": [
    "### ✍️ Analysis (Setup & Load) — 3–5 sentences\n",
    "- What columns and dtypes did you observe? Any surprises?\n",
    "- Is the dataset balanced across `day` and `time`? Cite one count.\n",
    "- One risk if you skip an initial audit here.\n",
    "\n",
    "### 🔎 Quick checks\n",
    "- Report the shape (rows, cols).\n",
    "- Name 1 non-numeric dtype and why it matters.\n",
    "\n",
    "### ➕ Extension (pick one)\n",
    "- Tweak display options and note the effect.\n",
    "- Compute `value_counts()` on `day` or `time`.\n",
    "\n",
    "**Rubric (10 pts):** Correctness 3 • Evidence 2 • Clarity 2 • Reproducibility 2 • Exploration 1\n",
    "\n",
    "---\n",
    "**— Answer —**\n",
    "The dataset has 4 unique days (`Thur`, `Fri`, `Sat`, `Sun`) and two times (`Lunch`, `Dinner`). \n",
    "The data are not perfectly balanced: dinners outnumber lunches and weekends tend to have more records than weekdays.\n",
    "Duplicate rows (if any) are minimal. The average total bill is around $19 and the average tip is around $3 (typical for this dataset).\n"
   ]
  },
  {
   "cell_type": "markdown",
   "id": "6c6f82c4",
   "metadata": {},
   "source": [
    "## 1) Import & Core Manipulation (20m)"
   ]
  },
  {
   "cell_type": "code",
   "execution_count": 174,
   "id": "2934caf8",
   "metadata": {},
   "outputs": [
    {
     "data": {
      "text/html": [
       "<div>\n",
       "<style scoped>\n",
       "    .dataframe tbody tr th:only-of-type {\n",
       "        vertical-align: middle;\n",
       "    }\n",
       "\n",
       "    .dataframe tbody tr th {\n",
       "        vertical-align: top;\n",
       "    }\n",
       "\n",
       "    .dataframe thead th {\n",
       "        text-align: right;\n",
       "    }\n",
       "</style>\n",
       "<table border=\"1\" class=\"dataframe\">\n",
       "  <thead>\n",
       "    <tr style=\"text-align: right;\">\n",
       "      <th></th>\n",
       "      <th>total_bill</th>\n",
       "      <th>tip</th>\n",
       "    </tr>\n",
       "  </thead>\n",
       "  <tbody>\n",
       "    <tr>\n",
       "      <th>0</th>\n",
       "      <td>16.99</td>\n",
       "      <td>1.01</td>\n",
       "    </tr>\n",
       "    <tr>\n",
       "      <th>1</th>\n",
       "      <td>10.34</td>\n",
       "      <td>1.66</td>\n",
       "    </tr>\n",
       "    <tr>\n",
       "      <th>2</th>\n",
       "      <td>21.01</td>\n",
       "      <td>3.50</td>\n",
       "    </tr>\n",
       "    <tr>\n",
       "      <th>3</th>\n",
       "      <td>23.68</td>\n",
       "      <td>3.31</td>\n",
       "    </tr>\n",
       "    <tr>\n",
       "      <th>4</th>\n",
       "      <td>24.59</td>\n",
       "      <td>3.61</td>\n",
       "    </tr>\n",
       "  </tbody>\n",
       "</table>\n",
       "</div>"
      ],
      "text/plain": [
       "   total_bill   tip\n",
       "0       16.99  1.01\n",
       "1       10.34  1.66\n",
       "2       21.01  3.50\n",
       "3       23.68  3.31\n",
       "4       24.59  3.61"
      ]
     },
     "execution_count": 174,
     "metadata": {},
     "output_type": "execute_result"
    }
   ],
   "source": [
    "tips[['total_bill','tip']].head()"
   ]
  },
  {
   "cell_type": "code",
   "execution_count": 175,
   "id": "6378d377",
   "metadata": {},
   "outputs": [
    {
     "data": {
      "text/html": [
       "<div>\n",
       "<style scoped>\n",
       "    .dataframe tbody tr th:only-of-type {\n",
       "        vertical-align: middle;\n",
       "    }\n",
       "\n",
       "    .dataframe tbody tr th {\n",
       "        vertical-align: top;\n",
       "    }\n",
       "\n",
       "    .dataframe thead th {\n",
       "        text-align: right;\n",
       "    }\n",
       "</style>\n",
       "<table border=\"1\" class=\"dataframe\">\n",
       "  <thead>\n",
       "    <tr style=\"text-align: right;\">\n",
       "      <th></th>\n",
       "      <th>total_bill</th>\n",
       "      <th>tip</th>\n",
       "      <th>sex</th>\n",
       "      <th>smoker</th>\n",
       "      <th>day</th>\n",
       "      <th>time</th>\n",
       "      <th>size</th>\n",
       "    </tr>\n",
       "  </thead>\n",
       "  <tbody>\n",
       "    <tr>\n",
       "      <th>0</th>\n",
       "      <td>16.99</td>\n",
       "      <td>1.01</td>\n",
       "      <td>Female</td>\n",
       "      <td>No</td>\n",
       "      <td>Sun</td>\n",
       "      <td>Dinner</td>\n",
       "      <td>2</td>\n",
       "    </tr>\n",
       "    <tr>\n",
       "      <th>1</th>\n",
       "      <td>10.34</td>\n",
       "      <td>1.66</td>\n",
       "      <td>Male</td>\n",
       "      <td>No</td>\n",
       "      <td>Sun</td>\n",
       "      <td>Dinner</td>\n",
       "      <td>3</td>\n",
       "    </tr>\n",
       "    <tr>\n",
       "      <th>2</th>\n",
       "      <td>21.01</td>\n",
       "      <td>3.50</td>\n",
       "      <td>Male</td>\n",
       "      <td>No</td>\n",
       "      <td>Sun</td>\n",
       "      <td>Dinner</td>\n",
       "      <td>3</td>\n",
       "    </tr>\n",
       "    <tr>\n",
       "      <th>3</th>\n",
       "      <td>23.68</td>\n",
       "      <td>3.31</td>\n",
       "      <td>Male</td>\n",
       "      <td>No</td>\n",
       "      <td>Sun</td>\n",
       "      <td>Dinner</td>\n",
       "      <td>2</td>\n",
       "    </tr>\n",
       "    <tr>\n",
       "      <th>4</th>\n",
       "      <td>24.59</td>\n",
       "      <td>3.61</td>\n",
       "      <td>Female</td>\n",
       "      <td>No</td>\n",
       "      <td>Sun</td>\n",
       "      <td>Dinner</td>\n",
       "      <td>4</td>\n",
       "    </tr>\n",
       "  </tbody>\n",
       "</table>\n",
       "</div>"
      ],
      "text/plain": [
       "   total_bill   tip     sex smoker  day    time  size\n",
       "0       16.99  1.01  Female     No  Sun  Dinner     2\n",
       "1       10.34  1.66    Male     No  Sun  Dinner     3\n",
       "2       21.01  3.50    Male     No  Sun  Dinner     3\n",
       "3       23.68  3.31    Male     No  Sun  Dinner     2\n",
       "4       24.59  3.61  Female     No  Sun  Dinner     4"
      ]
     },
     "execution_count": 175,
     "metadata": {},
     "output_type": "execute_result"
    }
   ],
   "source": [
    "tips.iloc[0:5]"
   ]
  },
  {
   "cell_type": "code",
   "execution_count": 176,
   "id": "fb86ea98",
   "metadata": {},
   "outputs": [
    {
     "data": {
      "text/html": [
       "<div>\n",
       "<style scoped>\n",
       "    .dataframe tbody tr th:only-of-type {\n",
       "        vertical-align: middle;\n",
       "    }\n",
       "\n",
       "    .dataframe tbody tr th {\n",
       "        vertical-align: top;\n",
       "    }\n",
       "\n",
       "    .dataframe thead th {\n",
       "        text-align: right;\n",
       "    }\n",
       "</style>\n",
       "<table border=\"1\" class=\"dataframe\">\n",
       "  <thead>\n",
       "    <tr style=\"text-align: right;\">\n",
       "      <th></th>\n",
       "      <th>total_bill</th>\n",
       "      <th>tip</th>\n",
       "      <th>size</th>\n",
       "    </tr>\n",
       "  </thead>\n",
       "  <tbody>\n",
       "    <tr>\n",
       "      <th>0</th>\n",
       "      <td>16.99</td>\n",
       "      <td>1.01</td>\n",
       "      <td>2</td>\n",
       "    </tr>\n",
       "    <tr>\n",
       "      <th>1</th>\n",
       "      <td>10.34</td>\n",
       "      <td>1.66</td>\n",
       "      <td>3</td>\n",
       "    </tr>\n",
       "    <tr>\n",
       "      <th>2</th>\n",
       "      <td>21.01</td>\n",
       "      <td>3.50</td>\n",
       "      <td>3</td>\n",
       "    </tr>\n",
       "    <tr>\n",
       "      <th>3</th>\n",
       "      <td>23.68</td>\n",
       "      <td>3.31</td>\n",
       "      <td>2</td>\n",
       "    </tr>\n",
       "    <tr>\n",
       "      <th>4</th>\n",
       "      <td>24.59</td>\n",
       "      <td>3.61</td>\n",
       "      <td>4</td>\n",
       "    </tr>\n",
       "  </tbody>\n",
       "</table>\n",
       "</div>"
      ],
      "text/plain": [
       "   total_bill   tip  size\n",
       "0       16.99  1.01     2\n",
       "1       10.34  1.66     3\n",
       "2       21.01  3.50     3\n",
       "3       23.68  3.31     2\n",
       "4       24.59  3.61     4"
      ]
     },
     "execution_count": 176,
     "metadata": {},
     "output_type": "execute_result"
    }
   ],
   "source": [
    "tips.loc[tips['day']=='Sun', ['total_bill','tip','size']].head()"
   ]
  },
  {
   "cell_type": "code",
   "execution_count": 177,
   "id": "76431d1d",
   "metadata": {},
   "outputs": [
    {
     "data": {
      "text/html": [
       "<div>\n",
       "<style scoped>\n",
       "    .dataframe tbody tr th:only-of-type {\n",
       "        vertical-align: middle;\n",
       "    }\n",
       "\n",
       "    .dataframe tbody tr th {\n",
       "        vertical-align: top;\n",
       "    }\n",
       "\n",
       "    .dataframe thead th {\n",
       "        text-align: right;\n",
       "    }\n",
       "</style>\n",
       "<table border=\"1\" class=\"dataframe\">\n",
       "  <thead>\n",
       "    <tr style=\"text-align: right;\">\n",
       "      <th></th>\n",
       "      <th>total_bill</th>\n",
       "      <th>tip</th>\n",
       "      <th>sex</th>\n",
       "      <th>smoker</th>\n",
       "      <th>day</th>\n",
       "      <th>time</th>\n",
       "      <th>size</th>\n",
       "    </tr>\n",
       "  </thead>\n",
       "  <tbody>\n",
       "    <tr>\n",
       "      <th>80</th>\n",
       "      <td>19.44</td>\n",
       "      <td>3.00</td>\n",
       "      <td>Male</td>\n",
       "      <td>Yes</td>\n",
       "      <td>Thur</td>\n",
       "      <td>Lunch</td>\n",
       "      <td>2</td>\n",
       "    </tr>\n",
       "    <tr>\n",
       "      <th>83</th>\n",
       "      <td>32.68</td>\n",
       "      <td>5.00</td>\n",
       "      <td>Male</td>\n",
       "      <td>Yes</td>\n",
       "      <td>Thur</td>\n",
       "      <td>Lunch</td>\n",
       "      <td>2</td>\n",
       "    </tr>\n",
       "    <tr>\n",
       "      <th>138</th>\n",
       "      <td>16.00</td>\n",
       "      <td>2.00</td>\n",
       "      <td>Male</td>\n",
       "      <td>Yes</td>\n",
       "      <td>Thur</td>\n",
       "      <td>Lunch</td>\n",
       "      <td>2</td>\n",
       "    </tr>\n",
       "    <tr>\n",
       "      <th>191</th>\n",
       "      <td>19.81</td>\n",
       "      <td>4.19</td>\n",
       "      <td>Female</td>\n",
       "      <td>Yes</td>\n",
       "      <td>Thur</td>\n",
       "      <td>Lunch</td>\n",
       "      <td>2</td>\n",
       "    </tr>\n",
       "    <tr>\n",
       "      <th>192</th>\n",
       "      <td>28.44</td>\n",
       "      <td>2.56</td>\n",
       "      <td>Male</td>\n",
       "      <td>Yes</td>\n",
       "      <td>Thur</td>\n",
       "      <td>Lunch</td>\n",
       "      <td>2</td>\n",
       "    </tr>\n",
       "  </tbody>\n",
       "</table>\n",
       "</div>"
      ],
      "text/plain": [
       "     total_bill   tip     sex smoker   day   time  size\n",
       "80        19.44  3.00    Male    Yes  Thur  Lunch     2\n",
       "83        32.68  5.00    Male    Yes  Thur  Lunch     2\n",
       "138       16.00  2.00    Male    Yes  Thur  Lunch     2\n",
       "191       19.81  4.19  Female    Yes  Thur  Lunch     2\n",
       "192       28.44  2.56    Male    Yes  Thur  Lunch     2"
      ]
     },
     "execution_count": 177,
     "metadata": {},
     "output_type": "execute_result"
    }
   ],
   "source": [
    "tips.query(\"time=='Lunch' and smoker=='Yes'\").head()"
   ]
  },
  {
   "cell_type": "code",
   "execution_count": 178,
   "id": "40efc454",
   "metadata": {},
   "outputs": [
    {
     "data": {
      "text/html": [
       "<div>\n",
       "<style scoped>\n",
       "    .dataframe tbody tr th:only-of-type {\n",
       "        vertical-align: middle;\n",
       "    }\n",
       "\n",
       "    .dataframe tbody tr th {\n",
       "        vertical-align: top;\n",
       "    }\n",
       "\n",
       "    .dataframe thead th {\n",
       "        text-align: right;\n",
       "    }\n",
       "</style>\n",
       "<table border=\"1\" class=\"dataframe\">\n",
       "  <thead>\n",
       "    <tr style=\"text-align: right;\">\n",
       "      <th></th>\n",
       "      <th>total_bill</th>\n",
       "      <th>tip</th>\n",
       "      <th>sex</th>\n",
       "      <th>smoker</th>\n",
       "      <th>day</th>\n",
       "      <th>time</th>\n",
       "      <th>size</th>\n",
       "    </tr>\n",
       "  </thead>\n",
       "  <tbody>\n",
       "    <tr>\n",
       "      <th>170</th>\n",
       "      <td>50.81</td>\n",
       "      <td>10.00</td>\n",
       "      <td>Male</td>\n",
       "      <td>Yes</td>\n",
       "      <td>Sat</td>\n",
       "      <td>Dinner</td>\n",
       "      <td>3</td>\n",
       "    </tr>\n",
       "    <tr>\n",
       "      <th>212</th>\n",
       "      <td>48.33</td>\n",
       "      <td>9.00</td>\n",
       "      <td>Male</td>\n",
       "      <td>No</td>\n",
       "      <td>Sat</td>\n",
       "      <td>Dinner</td>\n",
       "      <td>4</td>\n",
       "    </tr>\n",
       "    <tr>\n",
       "      <th>59</th>\n",
       "      <td>48.27</td>\n",
       "      <td>6.73</td>\n",
       "      <td>Male</td>\n",
       "      <td>No</td>\n",
       "      <td>Sat</td>\n",
       "      <td>Dinner</td>\n",
       "      <td>4</td>\n",
       "    </tr>\n",
       "    <tr>\n",
       "      <th>156</th>\n",
       "      <td>48.17</td>\n",
       "      <td>5.00</td>\n",
       "      <td>Male</td>\n",
       "      <td>No</td>\n",
       "      <td>Sun</td>\n",
       "      <td>Dinner</td>\n",
       "      <td>6</td>\n",
       "    </tr>\n",
       "    <tr>\n",
       "      <th>182</th>\n",
       "      <td>45.35</td>\n",
       "      <td>3.50</td>\n",
       "      <td>Male</td>\n",
       "      <td>Yes</td>\n",
       "      <td>Sun</td>\n",
       "      <td>Dinner</td>\n",
       "      <td>3</td>\n",
       "    </tr>\n",
       "  </tbody>\n",
       "</table>\n",
       "</div>"
      ],
      "text/plain": [
       "     total_bill    tip   sex smoker  day    time  size\n",
       "170       50.81  10.00  Male    Yes  Sat  Dinner     3\n",
       "212       48.33   9.00  Male     No  Sat  Dinner     4\n",
       "59        48.27   6.73  Male     No  Sat  Dinner     4\n",
       "156       48.17   5.00  Male     No  Sun  Dinner     6\n",
       "182       45.35   3.50  Male    Yes  Sun  Dinner     3"
      ]
     },
     "execution_count": 178,
     "metadata": {},
     "output_type": "execute_result"
    }
   ],
   "source": [
    "tips.sort_values(['total_bill','tip'], ascending=[False, True]).head()"
   ]
  },
  {
   "cell_type": "code",
   "execution_count": 179,
   "id": "06e7d177",
   "metadata": {},
   "outputs": [
    {
     "data": {
      "text/html": [
       "<div>\n",
       "<style scoped>\n",
       "    .dataframe tbody tr th:only-of-type {\n",
       "        vertical-align: middle;\n",
       "    }\n",
       "\n",
       "    .dataframe tbody tr th {\n",
       "        vertical-align: top;\n",
       "    }\n",
       "\n",
       "    .dataframe thead th {\n",
       "        text-align: right;\n",
       "    }\n",
       "</style>\n",
       "<table border=\"1\" class=\"dataframe\">\n",
       "  <thead>\n",
       "    <tr style=\"text-align: right;\">\n",
       "      <th></th>\n",
       "      <th>total_bill</th>\n",
       "      <th>tip</th>\n",
       "      <th>sex</th>\n",
       "      <th>smoker</th>\n",
       "      <th>day</th>\n",
       "      <th>time</th>\n",
       "      <th>size</th>\n",
       "      <th>tip_pct</th>\n",
       "      <th>tip_per_person</th>\n",
       "    </tr>\n",
       "  </thead>\n",
       "  <tbody>\n",
       "    <tr>\n",
       "      <th>0</th>\n",
       "      <td>16.99</td>\n",
       "      <td>1.01</td>\n",
       "      <td>Female</td>\n",
       "      <td>No</td>\n",
       "      <td>Sun</td>\n",
       "      <td>Dinner</td>\n",
       "      <td>2</td>\n",
       "      <td>0.059</td>\n",
       "      <td>0.505</td>\n",
       "    </tr>\n",
       "    <tr>\n",
       "      <th>1</th>\n",
       "      <td>10.34</td>\n",
       "      <td>1.66</td>\n",
       "      <td>Male</td>\n",
       "      <td>No</td>\n",
       "      <td>Sun</td>\n",
       "      <td>Dinner</td>\n",
       "      <td>3</td>\n",
       "      <td>0.161</td>\n",
       "      <td>0.553</td>\n",
       "    </tr>\n",
       "    <tr>\n",
       "      <th>2</th>\n",
       "      <td>21.01</td>\n",
       "      <td>3.50</td>\n",
       "      <td>Male</td>\n",
       "      <td>No</td>\n",
       "      <td>Sun</td>\n",
       "      <td>Dinner</td>\n",
       "      <td>3</td>\n",
       "      <td>0.167</td>\n",
       "      <td>1.167</td>\n",
       "    </tr>\n",
       "    <tr>\n",
       "      <th>3</th>\n",
       "      <td>23.68</td>\n",
       "      <td>3.31</td>\n",
       "      <td>Male</td>\n",
       "      <td>No</td>\n",
       "      <td>Sun</td>\n",
       "      <td>Dinner</td>\n",
       "      <td>2</td>\n",
       "      <td>0.140</td>\n",
       "      <td>1.655</td>\n",
       "    </tr>\n",
       "    <tr>\n",
       "      <th>4</th>\n",
       "      <td>24.59</td>\n",
       "      <td>3.61</td>\n",
       "      <td>Female</td>\n",
       "      <td>No</td>\n",
       "      <td>Sun</td>\n",
       "      <td>Dinner</td>\n",
       "      <td>4</td>\n",
       "      <td>0.147</td>\n",
       "      <td>0.902</td>\n",
       "    </tr>\n",
       "  </tbody>\n",
       "</table>\n",
       "</div>"
      ],
      "text/plain": [
       "   total_bill   tip     sex smoker  day    time  size  tip_pct  tip_per_person\n",
       "0       16.99  1.01  Female     No  Sun  Dinner     2    0.059           0.505\n",
       "1       10.34  1.66    Male     No  Sun  Dinner     3    0.161           0.553\n",
       "2       21.01  3.50    Male     No  Sun  Dinner     3    0.167           1.167\n",
       "3       23.68  3.31    Male     No  Sun  Dinner     2    0.140           1.655\n",
       "4       24.59  3.61  Female     No  Sun  Dinner     4    0.147           0.902"
      ]
     },
     "execution_count": 179,
     "metadata": {},
     "output_type": "execute_result"
    }
   ],
   "source": [
    "tips = tips.assign(tip_pct = tips['tip']/tips['total_bill'],\n",
    "                         tip_per_person = tips['tip']/tips['size']); tips.head()"
   ]
  },
  {
   "cell_type": "markdown",
   "id": "88ec9078",
   "metadata": {},
   "source": [
    "### ✅ Exercise 1\n",
    "Filter `day='Sat' & size≥3`, add `bill_per_person`, sort desc, show top 5."
   ]
  },
  {
   "cell_type": "markdown",
   "id": "28400086",
   "metadata": {},
   "source": [
    "**Hints:**\n",
    "- Concept: filter → compute → sort.\n",
    "- API: boolean mask / `.query`, `.assign`, `.sort_values`.\n"
   ]
  },
  {
   "cell_type": "code",
   "execution_count": 180,
   "id": "b779da59",
   "metadata": {},
   "outputs": [
    {
     "data": {
      "text/html": [
       "<div>\n",
       "<style scoped>\n",
       "    .dataframe tbody tr th:only-of-type {\n",
       "        vertical-align: middle;\n",
       "    }\n",
       "\n",
       "    .dataframe tbody tr th {\n",
       "        vertical-align: top;\n",
       "    }\n",
       "\n",
       "    .dataframe thead th {\n",
       "        text-align: right;\n",
       "    }\n",
       "</style>\n",
       "<table border=\"1\" class=\"dataframe\">\n",
       "  <thead>\n",
       "    <tr style=\"text-align: right;\">\n",
       "      <th></th>\n",
       "      <th>total_bill</th>\n",
       "      <th>tip</th>\n",
       "      <th>sex</th>\n",
       "      <th>smoker</th>\n",
       "      <th>day</th>\n",
       "      <th>time</th>\n",
       "      <th>size</th>\n",
       "      <th>tip_pct</th>\n",
       "      <th>tip_per_person</th>\n",
       "      <th>bill_per_person</th>\n",
       "    </tr>\n",
       "  </thead>\n",
       "  <tbody>\n",
       "    <tr>\n",
       "      <th>170</th>\n",
       "      <td>50.81</td>\n",
       "      <td>10.00</td>\n",
       "      <td>Male</td>\n",
       "      <td>Yes</td>\n",
       "      <td>Sat</td>\n",
       "      <td>Dinner</td>\n",
       "      <td>3</td>\n",
       "      <td>0.197</td>\n",
       "      <td>3.333</td>\n",
       "      <td>16.937</td>\n",
       "    </tr>\n",
       "    <tr>\n",
       "      <th>102</th>\n",
       "      <td>44.30</td>\n",
       "      <td>2.50</td>\n",
       "      <td>Female</td>\n",
       "      <td>Yes</td>\n",
       "      <td>Sat</td>\n",
       "      <td>Dinner</td>\n",
       "      <td>3</td>\n",
       "      <td>0.056</td>\n",
       "      <td>0.833</td>\n",
       "      <td>14.767</td>\n",
       "    </tr>\n",
       "    <tr>\n",
       "      <th>212</th>\n",
       "      <td>48.33</td>\n",
       "      <td>9.00</td>\n",
       "      <td>Male</td>\n",
       "      <td>No</td>\n",
       "      <td>Sat</td>\n",
       "      <td>Dinner</td>\n",
       "      <td>4</td>\n",
       "      <td>0.186</td>\n",
       "      <td>2.250</td>\n",
       "      <td>12.082</td>\n",
       "    </tr>\n",
       "    <tr>\n",
       "      <th>59</th>\n",
       "      <td>48.27</td>\n",
       "      <td>6.73</td>\n",
       "      <td>Male</td>\n",
       "      <td>No</td>\n",
       "      <td>Sat</td>\n",
       "      <td>Dinner</td>\n",
       "      <td>4</td>\n",
       "      <td>0.139</td>\n",
       "      <td>1.683</td>\n",
       "      <td>12.068</td>\n",
       "    </tr>\n",
       "    <tr>\n",
       "      <th>238</th>\n",
       "      <td>35.83</td>\n",
       "      <td>4.67</td>\n",
       "      <td>Female</td>\n",
       "      <td>No</td>\n",
       "      <td>Sat</td>\n",
       "      <td>Dinner</td>\n",
       "      <td>3</td>\n",
       "      <td>0.130</td>\n",
       "      <td>1.557</td>\n",
       "      <td>11.943</td>\n",
       "    </tr>\n",
       "  </tbody>\n",
       "</table>\n",
       "</div>"
      ],
      "text/plain": [
       "     total_bill    tip     sex smoker  day    time  size  tip_pct  \\\n",
       "170       50.81  10.00    Male    Yes  Sat  Dinner     3    0.197   \n",
       "102       44.30   2.50  Female    Yes  Sat  Dinner     3    0.056   \n",
       "212       48.33   9.00    Male     No  Sat  Dinner     4    0.186   \n",
       "59        48.27   6.73    Male     No  Sat  Dinner     4    0.139   \n",
       "238       35.83   4.67  Female     No  Sat  Dinner     3    0.130   \n",
       "\n",
       "     tip_per_person  bill_per_person  \n",
       "170           3.333           16.937  \n",
       "102           0.833           14.767  \n",
       "212           2.250           12.082  \n",
       "59            1.683           12.068  \n",
       "238           1.557           11.943  "
      ]
     },
     "execution_count": 180,
     "metadata": {},
     "output_type": "execute_result"
    }
   ],
   "source": [
    "\n",
    "a = (tips.query(\"day == 'Sat' and size >= 3\")\n",
    "              .assign(bill_per_person=lambda d: d['total_bill']/d['size'])\n",
    "              .sort_values('bill_per_person', ascending=False)\n",
    "              .head(5))\n",
    "a"
   ]
  },
  {
   "cell_type": "markdown",
   "id": "85ff791f",
   "metadata": {},
   "source": [
    "### ✍️ Analysis (Import & Manipulation) — 3–5 sentences\n",
    "- Which 2 columns seem most associated with `tip`? Support with a stat.\n",
    "- Explain one filter you wrote in plain English.\n",
    "- One thing you might compute next.\n",
    "\n",
    "### 🔎 Quick checks\n",
    "- Show first 3 rows of your filtered frame.\n",
    "- Name one new column and its formula.\n",
    "\n",
    "### ➕ Extension (pick one)\n",
    "- Rewrite a filter via `.query` vs mask; compare readability.\n",
    "- Change a sort order and predict effect.\n",
    "\n",
    "**Rubric (10 pts):** Correctness 3 • Evidence 2 • Clarity 2 • Reproducibility 2 • Exploration 1\n",
    "\n",
    "---\n",
    "**— Answer —**\n",
    "I filtered Saturday parties with size ≥ 3, computed `bill_per_person`, and sorted to find the priciest per-person bills. \n",
    "This pattern highlights large groups with high spend per head, which can inform staffing and upsell opportunities. \n",
    "Next, I would compare `bill_per_person` across smoker/non-smoker groups or across servers to look for anomalies.\n"
   ]
  },
  {
   "cell_type": "markdown",
   "id": "1428a1b1",
   "metadata": {},
   "source": [
    "## 2) Cleaning & Preprocessing (15m)"
   ]
  },
  {
   "cell_type": "code",
   "execution_count": 181,
   "id": "5c108c71",
   "metadata": {},
   "outputs": [
    {
     "data": {
      "text/plain": [
       "total_bill         float64\n",
       "tip                float64\n",
       "sex               category\n",
       "smoker            category\n",
       "day               category\n",
       "time              category\n",
       "size                 int64\n",
       "tip_pct            float64\n",
       "tip_per_person     float64\n",
       "dtype: object"
      ]
     },
     "execution_count": 181,
     "metadata": {},
     "output_type": "execute_result"
    }
   ],
   "source": [
    "tips['sex']=tips['sex'].astype('category')\n",
    "tips['smoker']=tips['smoker'].astype('category')\n",
    "tips['day']=tips['day'].astype('category')\n",
    "tips['time']=tips['time'].astype('category'); tips.dtypes"
   ]
  },
  {
   "cell_type": "code",
   "execution_count": 182,
   "id": "328f1b36",
   "metadata": {},
   "outputs": [
    {
     "data": {
      "text/plain": [
       "0    Alice\n",
       "1      Bob\n",
       "2    Alice\n",
       "3      Bob\n",
       "4    Alice\n",
       "Name: server_name, dtype: object"
      ]
     },
     "execution_count": 182,
     "metadata": {},
     "output_type": "execute_result"
    }
   ],
   "source": [
    "tips['server_name'] = [' Alice ', 'Bob', 'ALICE', 'bob', ' Alice ', 'Bob'] * (len(tips)//6) + ['Alice']*(len(tips)%6)\n",
    "tips['server_name'] = tips['server_name'].str.strip().str.title()\n",
    "tips['server_name'].head()"
   ]
  },
  {
   "cell_type": "code",
   "execution_count": 183,
   "id": "b2e71832",
   "metadata": {},
   "outputs": [
    {
     "name": "stdout",
     "output_type": "stream",
     "text": [
      "Before: (246, 10) After: (243, 10)\n"
     ]
    }
   ],
   "source": [
    "b = tips.copy()\n",
    "b = pd.concat([b, b.iloc[0:2]], ignore_index=True)\n",
    "print(\"Before:\", b.shape, \"After:\", b.drop_duplicates().shape)"
   ]
  },
  {
   "cell_type": "markdown",
   "id": "0c57eefe",
   "metadata": {},
   "source": [
    "### ✅ Exercise 2\n",
    "1) Ensure `size` is int64. 2) Build `tips_clean` with selected cols. 3) Verify no duplicates."
   ]
  },
  {
   "cell_type": "markdown",
   "id": "1afdf13c",
   "metadata": {},
   "source": [
    "**Hints:**\n",
    "- Concept: enforce types, subset columns, dedup.\n",
    "- API: `.astype`, column lists, `.drop_duplicates`.\n"
   ]
  },
  {
   "cell_type": "code",
   "execution_count": 184,
   "id": "22444f35",
   "metadata": {},
   "outputs": [
    {
     "name": "stdout",
     "output_type": "stream",
     "text": [
      "Dtypes for selected columns:\n",
      "total_bill     float64\n",
      "tip            float64\n",
      "tip_pct        float64\n",
      "day           category\n",
      "time          category\n",
      "sex           category\n",
      "smoker        category\n",
      "size             int64\n",
      "dtype: object\n",
      "\n",
      "Duplicate rows in tips_clean: 0\n"
     ]
    },
    {
     "data": {
      "text/html": [
       "<div>\n",
       "<style scoped>\n",
       "    .dataframe tbody tr th:only-of-type {\n",
       "        vertical-align: middle;\n",
       "    }\n",
       "\n",
       "    .dataframe tbody tr th {\n",
       "        vertical-align: top;\n",
       "    }\n",
       "\n",
       "    .dataframe thead th {\n",
       "        text-align: right;\n",
       "    }\n",
       "</style>\n",
       "<table border=\"1\" class=\"dataframe\">\n",
       "  <thead>\n",
       "    <tr style=\"text-align: right;\">\n",
       "      <th></th>\n",
       "      <th>total_bill</th>\n",
       "      <th>tip</th>\n",
       "      <th>tip_pct</th>\n",
       "      <th>day</th>\n",
       "      <th>time</th>\n",
       "      <th>sex</th>\n",
       "      <th>smoker</th>\n",
       "      <th>size</th>\n",
       "    </tr>\n",
       "  </thead>\n",
       "  <tbody>\n",
       "    <tr>\n",
       "      <th>0</th>\n",
       "      <td>16.99</td>\n",
       "      <td>1.01</td>\n",
       "      <td>0.059</td>\n",
       "      <td>Sun</td>\n",
       "      <td>Dinner</td>\n",
       "      <td>Female</td>\n",
       "      <td>No</td>\n",
       "      <td>2</td>\n",
       "    </tr>\n",
       "    <tr>\n",
       "      <th>1</th>\n",
       "      <td>10.34</td>\n",
       "      <td>1.66</td>\n",
       "      <td>0.161</td>\n",
       "      <td>Sun</td>\n",
       "      <td>Dinner</td>\n",
       "      <td>Male</td>\n",
       "      <td>No</td>\n",
       "      <td>3</td>\n",
       "    </tr>\n",
       "    <tr>\n",
       "      <th>2</th>\n",
       "      <td>21.01</td>\n",
       "      <td>3.50</td>\n",
       "      <td>0.167</td>\n",
       "      <td>Sun</td>\n",
       "      <td>Dinner</td>\n",
       "      <td>Male</td>\n",
       "      <td>No</td>\n",
       "      <td>3</td>\n",
       "    </tr>\n",
       "    <tr>\n",
       "      <th>3</th>\n",
       "      <td>23.68</td>\n",
       "      <td>3.31</td>\n",
       "      <td>0.140</td>\n",
       "      <td>Sun</td>\n",
       "      <td>Dinner</td>\n",
       "      <td>Male</td>\n",
       "      <td>No</td>\n",
       "      <td>2</td>\n",
       "    </tr>\n",
       "    <tr>\n",
       "      <th>4</th>\n",
       "      <td>24.59</td>\n",
       "      <td>3.61</td>\n",
       "      <td>0.147</td>\n",
       "      <td>Sun</td>\n",
       "      <td>Dinner</td>\n",
       "      <td>Female</td>\n",
       "      <td>No</td>\n",
       "      <td>4</td>\n",
       "    </tr>\n",
       "  </tbody>\n",
       "</table>\n",
       "</div>"
      ],
      "text/plain": [
       "   total_bill   tip  tip_pct  day    time     sex smoker  size\n",
       "0       16.99  1.01    0.059  Sun  Dinner  Female     No     2\n",
       "1       10.34  1.66    0.161  Sun  Dinner    Male     No     3\n",
       "2       21.01  3.50    0.167  Sun  Dinner    Male     No     3\n",
       "3       23.68  3.31    0.140  Sun  Dinner    Male     No     2\n",
       "4       24.59  3.61    0.147  Sun  Dinner  Female     No     4"
      ]
     },
     "execution_count": 184,
     "metadata": {},
     "output_type": "execute_result"
    }
   ],
   "source": [
    "\n",
    "tips['size'] = tips['size'].astype('int64')\n",
    "cols = ['total_bill','tip','tip_pct','day','time','sex','smoker','size']\n",
    "tips_clean = tips[cols].drop_duplicates().reset_index(drop=True)\n",
    "print(\"Dtypes for selected columns:\")\n",
    "print(tips_clean.dtypes)\n",
    "print(\"\\nDuplicate rows in tips_clean:\", tips_clean.duplicated().sum())\n",
    "tips_clean.head()"
   ]
  },
  {
   "cell_type": "markdown",
   "id": "e9287b5d",
   "metadata": {},
   "source": [
    "### ✍️ Analysis (Cleaning & Preprocessing) — 3–5 sentences\n",
    "- Which dtype changes did you apply and why?\n",
    "- Did you handle duplicates? How many?\n",
    "- One naming or string normalization you made.\n",
    "\n",
    "### 🔎 Quick checks\n",
    "- Print memory usage pre/post for 1 cast.\n",
    "- Confirm duplicates=0 in `tips_clean`.\n",
    "\n",
    "### ➕ Extension (pick one)\n",
    "- Cast another column and report memory delta.\n",
    "- Show `.value_counts()` pre/post string cleanup.\n",
    "\n",
    "**Rubric (10 pts):** Correctness 3 • Evidence 2 • Clarity 2 • Reproducibility 2 • Exploration 1\n",
    "\n",
    "---\n",
    "**— Answer —**\n",
    "I enforced integer type for `size`, selected analysis-ready columns, and removed duplicates to form `tips_clean`. \n",
    "Ensuring consistent dtypes avoids silent bugs (e.g., comparing strings to ints). \n",
    "A small number of duplicates were removed, producing a clean base table for downstream steps.\n"
   ]
  },
  {
   "cell_type": "markdown",
   "id": "c9421963",
   "metadata": {},
   "source": [
    "## 3) Handling Missing Data (15m)"
   ]
  },
  {
   "cell_type": "code",
   "execution_count": 185,
   "id": "eacb4d52",
   "metadata": {},
   "outputs": [
    {
     "data": {
      "text/plain": [
       "total_bill     0\n",
       "tip           21\n",
       "tip_pct        0\n",
       "day            0\n",
       "time           0\n",
       "sex            0\n",
       "smoker         0\n",
       "size          21\n",
       "dtype: int64"
      ]
     },
     "execution_count": 185,
     "metadata": {},
     "output_type": "execute_result"
    }
   ],
   "source": [
    "rng = np.random.default_rng(42)\n",
    "tips_na = tips_clean.copy()\n",
    "mask = rng.choice([True, False], size=len(tips_na), p=[0.1, 0.9])\n",
    "tips_na.loc[mask, 'tip'] = np.nan; tips_na.loc[mask, 'size'] = np.nan\n",
    "tips_na.isna().sum()"
   ]
  },
  {
   "cell_type": "code",
   "execution_count": 186,
   "id": "76468023",
   "metadata": {},
   "outputs": [
    {
     "data": {
      "text/plain": [
       "(222, 8)"
      ]
     },
     "execution_count": 186,
     "metadata": {},
     "output_type": "execute_result"
    }
   ],
   "source": [
    "dropped = tips_na.dropna(); dropped.shape"
   ]
  },
  {
   "cell_type": "code",
   "execution_count": 187,
   "id": "20c8ffd4",
   "metadata": {},
   "outputs": [
    {
     "data": {
      "text/plain": [
       "total_bill    0\n",
       "tip           0\n",
       "tip_pct       0\n",
       "day           0\n",
       "time          0\n",
       "sex           0\n",
       "smoker        0\n",
       "size          0\n",
       "dtype: int64"
      ]
     },
     "execution_count": 187,
     "metadata": {},
     "output_type": "execute_result"
    }
   ],
   "source": [
    "filled = tips_na.fillna({'tip': tips_na['tip'].median(), 'size': tips_na['size'].median()}); filled.isna().sum()"
   ]
  },
  {
   "cell_type": "code",
   "execution_count": 188,
   "id": "8b021aa8",
   "metadata": {},
   "outputs": [
    {
     "name": "stderr",
     "output_type": "stream",
     "text": [
      "C:\\Users\\HP\\AppData\\Local\\Temp\\ipykernel_6744\\1629360651.py:2: FutureWarning: The default of observed=False is deprecated and will be changed to True in a future version of pandas. Pass observed=False to retain current behavior or observed=True to adopt the future default and silence this warning.\n",
      "  tips_group_fill['tip'] = tips_group_fill.groupby(['day','time'])['tip'].transform(lambda s: s.fillna(s.median()))\n"
     ]
    },
    {
     "data": {
      "text/plain": [
       "total_bill     0\n",
       "tip            0\n",
       "tip_pct        0\n",
       "day            0\n",
       "time           0\n",
       "sex            0\n",
       "smoker         0\n",
       "size          21\n",
       "dtype: int64"
      ]
     },
     "execution_count": 188,
     "metadata": {},
     "output_type": "execute_result"
    }
   ],
   "source": [
    "tips_group_fill = tips_na.copy()\n",
    "tips_group_fill['tip'] = tips_group_fill.groupby(['day','time'])['tip'].transform(lambda s: s.fillna(s.median()))\n",
    "tips_group_fill.isna().sum()"
   ]
  },
  {
   "cell_type": "code",
   "execution_count": 189,
   "id": "0ad2f934",
   "metadata": {},
   "outputs": [],
   "source": [
    "tips_interp = tips_na.sort_values('total_bill').assign(**tips_na.select_dtypes(include='number').sort_values('total_bill').interpolate())\n"
   ]
  },
  {
   "cell_type": "markdown",
   "id": "0e36d350",
   "metadata": {},
   "source": [
    "### ✅ Exercise 3\n",
    "Drop rows where both `tip` & `size` are NaN; fill `size` by rounded mean per `day`."
   ]
  },
  {
   "cell_type": "markdown",
   "id": "a0733150",
   "metadata": {},
   "source": [
    "**Hints:**\n",
    "- Concept: selective drop, grouped fill.\n",
    "- API: boolean masks, `groupby().transform`, `.fillna`.\n"
   ]
  },
  {
   "cell_type": "code",
   "execution_count": 190,
   "id": "03a6f9eb",
   "metadata": {},
   "outputs": [
    {
     "name": "stderr",
     "output_type": "stream",
     "text": [
      "C:\\Users\\HP\\AppData\\Local\\Temp\\ipykernel_6744\\2258585900.py:2: FutureWarning: The default of observed=False is deprecated and will be changed to True in a future version of pandas. Pass observed=False to retain current behavior or observed=True to adopt the future default and silence this warning.\n",
      "  mean_size_by_day = tips_na2.groupby('day')['size'].transform('mean')\n"
     ]
    },
    {
     "data": {
      "text/html": [
       "<div>\n",
       "<style scoped>\n",
       "    .dataframe tbody tr th:only-of-type {\n",
       "        vertical-align: middle;\n",
       "    }\n",
       "\n",
       "    .dataframe tbody tr th {\n",
       "        vertical-align: top;\n",
       "    }\n",
       "\n",
       "    .dataframe thead th {\n",
       "        text-align: right;\n",
       "    }\n",
       "</style>\n",
       "<table border=\"1\" class=\"dataframe\">\n",
       "  <thead>\n",
       "    <tr style=\"text-align: right;\">\n",
       "      <th></th>\n",
       "      <th>day</th>\n",
       "      <th>total_bill</th>\n",
       "      <th>tip</th>\n",
       "      <th>size</th>\n",
       "    </tr>\n",
       "  </thead>\n",
       "  <tbody>\n",
       "    <tr>\n",
       "      <th>0</th>\n",
       "      <td>Sun</td>\n",
       "      <td>16.99</td>\n",
       "      <td>1.01</td>\n",
       "      <td>2</td>\n",
       "    </tr>\n",
       "    <tr>\n",
       "      <th>1</th>\n",
       "      <td>Sun</td>\n",
       "      <td>10.34</td>\n",
       "      <td>1.66</td>\n",
       "      <td>3</td>\n",
       "    </tr>\n",
       "    <tr>\n",
       "      <th>2</th>\n",
       "      <td>Sun</td>\n",
       "      <td>21.01</td>\n",
       "      <td>3.50</td>\n",
       "      <td>3</td>\n",
       "    </tr>\n",
       "    <tr>\n",
       "      <th>3</th>\n",
       "      <td>Sun</td>\n",
       "      <td>23.68</td>\n",
       "      <td>3.31</td>\n",
       "      <td>2</td>\n",
       "    </tr>\n",
       "    <tr>\n",
       "      <th>5</th>\n",
       "      <td>Sun</td>\n",
       "      <td>25.29</td>\n",
       "      <td>4.71</td>\n",
       "      <td>4</td>\n",
       "    </tr>\n",
       "  </tbody>\n",
       "</table>\n",
       "</div>"
      ],
      "text/plain": [
       "   day  total_bill   tip  size\n",
       "0  Sun       16.99  1.01     2\n",
       "1  Sun       10.34  1.66     3\n",
       "2  Sun       21.01  3.50     3\n",
       "3  Sun       23.68  3.31     2\n",
       "5  Sun       25.29  4.71     4"
      ]
     },
     "execution_count": 190,
     "metadata": {},
     "output_type": "execute_result"
    }
   ],
   "source": [
    "\n",
    "tips_na2 = tips_na[~(tips_na['tip'].isna() & tips_na['size'].isna())].copy()\n",
    "mean_size_by_day = tips_na2.groupby('day')['size'].transform('mean')\n",
    "tips_na2['size'] = tips_na2['size'].fillna(mean_size_by_day.round()).astype('Int64')\n",
    "tips_na2[['day','total_bill','tip','size']].head()"
   ]
  },
  {
   "cell_type": "markdown",
   "id": "669c784e",
   "metadata": {},
   "source": [
    "### ✍️ Analysis (Missing Data) — 3–5 sentences\n",
    "- Compare `dropna` vs groupwise fill—who shifts distribution more?\n",
    "- What assumption does your fill strategy make?\n",
    "- When would interpolation be inappropriate here?\n",
    "\n",
    "### 🔎 Quick checks\n",
    "- Report NaN counts before vs after.\n",
    "- Cite one numeric change for `tip`.\n",
    "\n",
    "### ➕ Extension (pick one)\n",
    "- Try a different group key for fill and compare MAE.\n",
    "- Plot hist pre/post fill for `tip`.\n",
    "\n",
    "**Rubric (10 pts):** Correctness 3 • Evidence 2 • Clarity 2 • Reproducibility 2 • Exploration 1\n",
    "\n",
    "---\n",
    "**— Answer —**\n",
    "Rows where both `tip` and `size` were missing were dropped because they offer little analytical value. \n",
    "For the remaining rows, I imputed `size` using the rounded mean by `day`, preserving daily patterns in party size while keeping integer semantics. \n",
    "This keeps imputations plausible and avoids biasing a single day disproportionately.\n"
   ]
  },
  {
   "cell_type": "markdown",
   "id": "c1daa3a7",
   "metadata": {},
   "source": [
    "## 4) Analysis & Visualization (20m)"
   ]
  },
  {
   "cell_type": "code",
   "execution_count": 191,
   "id": "099daf36",
   "metadata": {},
   "outputs": [
    {
     "name": "stdout",
     "output_type": "stream",
     "text": [
      "Overall tip %: 0.152\n"
     ]
    }
   ],
   "source": [
    "print(\"Overall tip %:\", (tips['tip'].sum()/tips['total_bill'].sum()).round(3))"
   ]
  },
  {
   "cell_type": "code",
   "execution_count": 192,
   "id": "ec0c2f7b",
   "metadata": {},
   "outputs": [
    {
     "data": {
      "image/png": "[encoded data removed]",
      "text/plain": [
       "<Figure size 640x480 with 1 Axes>"
      ]
     },
     "metadata": {},
     "output_type": "display_data"
    }
   ],
   "source": [
    "plt.figure(); plt.hist(tips['total_bill'].dropna(), bins=20)\n",
    "plt.title('Histogram: total_bill'); plt.xlabel('total_bill'); plt.ylabel('Frequency'); plt.show()"
   ]
  },
  {
   "cell_type": "code",
   "execution_count": 193,
   "id": "87e0652e",
   "metadata": {},
   "outputs": [
    {
     "data": {
      "image/png": "[encoded data removed]",
      "text/plain": [
       "<Figure size 640x480 with 1 Axes>"
      ]
     },
     "metadata": {},
     "output_type": "display_data"
    }
   ],
   "source": [
    "plt.figure()\n",
    "data = [tips.loc[tips['day']==d, 'tip'].dropna().values for d in tips['day'].cat.categories]\n",
    "plt.boxplot(data, labels=list(tips['day'].cat.categories))\n",
    "plt.title('Boxplot: tip by day'); plt.xlabel('day'); plt.ylabel('tip'); plt.show()"
   ]
  },
  {
   "cell_type": "code",
   "execution_count": 194,
   "id": "a8c33e9a",
   "metadata": {},
   "outputs": [
    {
     "data": {
      "image/png": "[encoded data removed]",
      "text/plain": [
       "<Figure size 640x480 with 1 Axes>"
      ]
     },
     "metadata": {},
     "output_type": "display_data"
    }
   ],
   "source": [
    "plt.figure(); plt.scatter(tips['total_bill'], tips['tip'], s=tips['size']*10, alpha=0.6)\n",
    "plt.title('Scatter: total_bill vs tip'); plt.xlabel('total_bill'); plt.ylabel('tip'); plt.show()"
   ]
  },
  {
   "cell_type": "code",
   "execution_count": 195,
   "id": "13a2976e",
   "metadata": {},
   "outputs": [
    {
     "name": "stderr",
     "output_type": "stream",
     "text": [
      "C:\\Users\\HP\\AppData\\Local\\Temp\\ipykernel_6744\\3890832865.py:1: FutureWarning: The default of observed=False is deprecated and will be changed to True in a future version of pandas. Pass observed=False to retain current behavior or observed=True to adopt the future default and silence this warning.\n",
      "  avg_tip_pct = tips.groupby('day')['tip_pct'].mean()\n"
     ]
    },
    {
     "data": {
      "image/png": "[encoded data removed]",
      "text/plain": [
       "<Figure size 640x480 with 1 Axes>"
      ]
     },
     "metadata": {},
     "output_type": "display_data"
    }
   ],
   "source": [
    "avg_tip_pct = tips.groupby('day')['tip_pct'].mean()\n",
    "plt.figure(); plt.bar(avg_tip_pct.index.astype(str), avg_tip_pct.values)\n",
    "plt.title('Average tip_pct by day'); plt.xlabel('day'); plt.ylabel('mean tip_pct'); plt.show()"
   ]
  },
  {
   "cell_type": "markdown",
   "id": "24bd803e",
   "metadata": {},
   "source": [
    "### ✅ Exercise 4\n",
    "1) Scatter: `total_bill` vs `tip_pct`. 2) Bar: median `total_bill` by `time`."
   ]
  },
  {
   "cell_type": "markdown",
   "id": "4ba20ec4",
   "metadata": {},
   "source": [
    "**Hints:**\n",
    "- Concept: relate vars via scatter; summarize via bar.\n",
    "- API: `plt.scatter`, `groupby().median` + `plt.bar`.\n"
   ]
  },
  {
   "cell_type": "code",
   "execution_count": 196,
   "id": "4a01cb8a",
   "metadata": {},
   "outputs": [
    {
     "data": {
      "image/png": "[encoded data removed]",
      "text/plain": [
       "<Figure size 640x480 with 1 Axes>"
      ]
     },
     "metadata": {},
     "output_type": "display_data"
    },
    {
     "name": "stderr",
     "output_type": "stream",
     "text": [
      "C:\\Users\\HP\\AppData\\Local\\Temp\\ipykernel_6744\\3151874144.py:8: FutureWarning: The default of observed=False is deprecated and will be changed to True in a future version of pandas. Pass observed=False to retain current behavior or observed=True to adopt the future default and silence this warning.\n",
      "  med_by_time = tips.groupby('time')['total_bill'].median()\n"
     ]
    },
    {
     "data": {
      "image/png": "[encoded data removed]",
      "text/plain": [
       "<Figure size 640x480 with 1 Axes>"
      ]
     },
     "metadata": {},
     "output_type": "display_data"
    }
   ],
   "source": [
    "\n",
    "plt.figure()\n",
    "plt.scatter(tips['total_bill'], tips['tip_pct'])\n",
    "plt.title('total_bill vs tip_pct')\n",
    "plt.xlabel('total_bill'); plt.ylabel('tip_pct')\n",
    "plt.show()\n",
    "\n",
    "\n",
    "med_by_time = tips.groupby('time')['total_bill'].median()\n",
    "plt.figure()\n",
    "plt.bar(med_by_time.index.astype(str), med_by_time.values)\n",
    "plt.title('Median total_bill by time')\n",
    "plt.xlabel('time'); plt.ylabel('median total_bill')\n",
    "plt.show()"
   ]
  },
  {
   "cell_type": "markdown",
   "id": "734df611",
   "metadata": {},
   "source": [
    "### ✍️ Analysis (Analysis & Visualization) — 3–5 sentences\n",
    "- State one pattern that holds across days and one that differs Lunch vs Dinner.\n",
    "- Interpret scatter: linear? heteroscedastic?\n",
    "- What would you plot next?\n",
    "\n",
    "### 🔎 Quick checks\n",
    "- Quote one `.describe()` stat that supports your claim.\n",
    "- Ensure axes labels/titles are informative.\n",
    "\n",
    "### ➕ Extension (pick one)\n",
    "- Add a follow-up chart (e.g., tip% by party size) and describe it.\n",
    "- Bucket `total_bill` and compare medians.\n",
    "\n",
    "**Rubric (10 pts):** Correctness 3 • Evidence 2 • Clarity 2 • Reproducibility 2 • Exploration 1\n",
    "\n",
    "---\n",
    "**— Answer —**\n",
    "The scatter of `total_bill` vs `tip_pct` usually shows weak positive association with substantial spread; \n",
    "percentage tips often shrink for very small bills and stabilize for moderate bills. \n",
    "Median total bill tends to be higher at Dinner vs Lunch, consistent with heavier evening meals. \n",
    "Next, I would group by day×time to see whether weekends drive higher spend.\n"
   ]
  },
  {
   "cell_type": "markdown",
   "id": "4d22bd90",
   "metadata": {},
   "source": [
    "## 5) Grouping & Merging (20m)"
   ]
  },
  {
   "cell_type": "code",
   "execution_count": 197,
   "id": "f1a5b1bd",
   "metadata": {},
   "outputs": [
    {
     "name": "stderr",
     "output_type": "stream",
     "text": [
      "C:\\Users\\HP\\AppData\\Local\\Temp\\ipykernel_6744\\754671917.py:1: FutureWarning: The default of observed=False is deprecated and will be changed to True in a future version of pandas. Pass observed=False to retain current behavior or observed=True to adopt the future default and silence this warning.\n",
      "  g = (tips.groupby(['day','time'])\n"
     ]
    },
    {
     "data": {
      "text/html": [
       "<div>\n",
       "<style scoped>\n",
       "    .dataframe tbody tr th:only-of-type {\n",
       "        vertical-align: middle;\n",
       "    }\n",
       "\n",
       "    .dataframe tbody tr th {\n",
       "        vertical-align: top;\n",
       "    }\n",
       "\n",
       "    .dataframe thead th {\n",
       "        text-align: right;\n",
       "    }\n",
       "</style>\n",
       "<table border=\"1\" class=\"dataframe\">\n",
       "  <thead>\n",
       "    <tr style=\"text-align: right;\">\n",
       "      <th></th>\n",
       "      <th></th>\n",
       "      <th>count</th>\n",
       "      <th>avg_bill</th>\n",
       "      <th>avg_tip</th>\n",
       "      <th>avg_tip_pct</th>\n",
       "    </tr>\n",
       "    <tr>\n",
       "      <th>day</th>\n",
       "      <th>time</th>\n",
       "      <th></th>\n",
       "      <th></th>\n",
       "      <th></th>\n",
       "      <th></th>\n",
       "    </tr>\n",
       "  </thead>\n",
       "  <tbody>\n",
       "    <tr>\n",
       "      <th rowspan=\"2\" valign=\"top\">Fri</th>\n",
       "      <th>Dinner</th>\n",
       "      <td>12</td>\n",
       "      <td>19.663</td>\n",
       "      <td>2.940</td>\n",
       "      <td>0.159</td>\n",
       "    </tr>\n",
       "    <tr>\n",
       "      <th>Lunch</th>\n",
       "      <td>7</td>\n",
       "      <td>12.846</td>\n",
       "      <td>2.383</td>\n",
       "      <td>0.189</td>\n",
       "    </tr>\n",
       "    <tr>\n",
       "      <th rowspan=\"2\" valign=\"top\">Sat</th>\n",
       "      <th>Dinner</th>\n",
       "      <td>87</td>\n",
       "      <td>20.441</td>\n",
       "      <td>2.993</td>\n",
       "      <td>0.153</td>\n",
       "    </tr>\n",
       "    <tr>\n",
       "      <th>Lunch</th>\n",
       "      <td>0</td>\n",
       "      <td>NaN</td>\n",
       "      <td>NaN</td>\n",
       "      <td>NaN</td>\n",
       "    </tr>\n",
       "    <tr>\n",
       "      <th>Sun</th>\n",
       "      <th>Dinner</th>\n",
       "      <td>76</td>\n",
       "      <td>21.410</td>\n",
       "      <td>3.255</td>\n",
       "      <td>0.167</td>\n",
       "    </tr>\n",
       "  </tbody>\n",
       "</table>\n",
       "</div>"
      ],
      "text/plain": [
       "            count  avg_bill  avg_tip  avg_tip_pct\n",
       "day time                                         \n",
       "Fri Dinner     12    19.663    2.940        0.159\n",
       "    Lunch       7    12.846    2.383        0.189\n",
       "Sat Dinner     87    20.441    2.993        0.153\n",
       "    Lunch       0       NaN      NaN          NaN\n",
       "Sun Dinner     76    21.410    3.255        0.167"
      ]
     },
     "execution_count": 197,
     "metadata": {},
     "output_type": "execute_result"
    }
   ],
   "source": [
    "g = (tips.groupby(['day','time'])\n",
    "       .agg(count=('total_bill','size'), avg_bill=('total_bill','mean'),\n",
    "            avg_tip=('tip','mean'), avg_tip_pct=('tip_pct','mean'))); g.head()"
   ]
  },
  {
   "cell_type": "code",
   "execution_count": 198,
   "id": "5a90041b",
   "metadata": {},
   "outputs": [
    {
     "name": "stderr",
     "output_type": "stream",
     "text": [
      "C:\\Users\\HP\\AppData\\Local\\Temp\\ipykernel_6744\\4290215540.py:3: FutureWarning: The default of observed=False is deprecated and will be changed to True in a future version of pandas. Pass observed=False to retain current behavior or observed=True to adopt the future default and silence this warning.\n",
      "  tips.groupby('day')['tip_pct'].apply(pct_above_20)\n"
     ]
    },
    {
     "data": {
      "text/plain": [
       "day\n",
       "Fri     0.211\n",
       "Sat     0.115\n",
       "Sun     0.197\n",
       "Thur    0.161\n",
       "Name: tip_pct, dtype: float64"
      ]
     },
     "execution_count": 198,
     "metadata": {},
     "output_type": "execute_result"
    }
   ],
   "source": [
    "def pct_above_20(s): return (s>0.20).mean()\n",
    "\n",
    "tips.groupby('day')['tip_pct'].apply(pct_above_20)"
   ]
  },
  {
   "cell_type": "code",
   "execution_count": 199,
   "id": "c8051aa1",
   "metadata": {},
   "outputs": [
    {
     "data": {
      "text/html": [
       "<div>\n",
       "<style scoped>\n",
       "    .dataframe tbody tr th:only-of-type {\n",
       "        vertical-align: middle;\n",
       "    }\n",
       "\n",
       "    .dataframe tbody tr th {\n",
       "        vertical-align: top;\n",
       "    }\n",
       "\n",
       "    .dataframe thead th {\n",
       "        text-align: right;\n",
       "    }\n",
       "</style>\n",
       "<table border=\"1\" class=\"dataframe\">\n",
       "  <thead>\n",
       "    <tr style=\"text-align: right;\">\n",
       "      <th></th>\n",
       "      <th>day</th>\n",
       "      <th>is_weekend</th>\n",
       "    </tr>\n",
       "  </thead>\n",
       "  <tbody>\n",
       "    <tr>\n",
       "      <th>90</th>\n",
       "      <td>Fri</td>\n",
       "      <td>False</td>\n",
       "    </tr>\n",
       "    <tr>\n",
       "      <th>19</th>\n",
       "      <td>Sat</td>\n",
       "      <td>True</td>\n",
       "    </tr>\n",
       "    <tr>\n",
       "      <th>0</th>\n",
       "      <td>Sun</td>\n",
       "      <td>True</td>\n",
       "    </tr>\n",
       "    <tr>\n",
       "      <th>77</th>\n",
       "      <td>Thur</td>\n",
       "      <td>False</td>\n",
       "    </tr>\n",
       "  </tbody>\n",
       "</table>\n",
       "</div>"
      ],
      "text/plain": [
       "     day  is_weekend\n",
       "90   Fri       False\n",
       "19   Sat        True\n",
       "0    Sun        True\n",
       "77  Thur       False"
      ]
     },
     "execution_count": 199,
     "metadata": {},
     "output_type": "execute_result"
    }
   ],
   "source": [
    "day_lookup = pd.DataFrame({'day':['Thur','Fri','Sat','Sun'],'is_weekend':[False,False,True,True]})\n",
    "tips_merge = tips.merge(day_lookup, on='day', how='left')\n",
    "tips_merge[['day','is_weekend']].drop_duplicates().sort_values('day')"
   ]
  },
  {
   "cell_type": "markdown",
   "id": "ddc37681",
   "metadata": {},
   "source": [
    "### ✅ Exercise 5\n",
    "1) Sum `total_bill` & `tip` by `smoker,sex`. 2) Map `time`→L/D and show pairs."
   ]
  },
  {
   "cell_type": "markdown",
   "id": "6e5127b6",
   "metadata": {},
   "source": [
    "**Hints:**\n",
    "- Concept: summarize by groups; enrich via merge.\n",
    "- API: `groupby().agg`, `.merge`.\n"
   ]
  },
  {
   "cell_type": "code",
   "execution_count": 200,
   "id": "6926f587",
   "metadata": {},
   "outputs": [
    {
     "name": "stdout",
     "output_type": "stream",
     "text": [
      "smoker    sex  total_bill    tip\n",
      "    No Female      977.68 149.77\n",
      "    No   Male     1919.75 302.00\n",
      "   Yes Female      593.27  96.74\n",
      "   Yes   Male     1337.07 183.07\n"
     ]
    },
    {
     "name": "stderr",
     "output_type": "stream",
     "text": [
      "C:\\Users\\HP\\AppData\\Local\\Temp\\ipykernel_6744\\2403245519.py:1: FutureWarning: The default of observed=False is deprecated and will be changed to True in a future version of pandas. Pass observed=False to retain current behavior or observed=True to adopt the future default and silence this warning.\n",
      "  sum_by_smoker_sex = (tips.groupby(['smoker','sex'])[['total_bill','tip']]\n"
     ]
    },
    {
     "data": {
      "text/html": [
       "<div>\n",
       "<style scoped>\n",
       "    .dataframe tbody tr th:only-of-type {\n",
       "        vertical-align: middle;\n",
       "    }\n",
       "\n",
       "    .dataframe tbody tr th {\n",
       "        vertical-align: top;\n",
       "    }\n",
       "\n",
       "    .dataframe thead th {\n",
       "        text-align: right;\n",
       "    }\n",
       "</style>\n",
       "<table border=\"1\" class=\"dataframe\">\n",
       "  <thead>\n",
       "    <tr style=\"text-align: right;\">\n",
       "      <th></th>\n",
       "      <th>time</th>\n",
       "      <th>L_or_D</th>\n",
       "    </tr>\n",
       "  </thead>\n",
       "  <tbody>\n",
       "    <tr>\n",
       "      <th>0</th>\n",
       "      <td>Dinner</td>\n",
       "      <td>D</td>\n",
       "    </tr>\n",
       "    <tr>\n",
       "      <th>77</th>\n",
       "      <td>Lunch</td>\n",
       "      <td>L</td>\n",
       "    </tr>\n",
       "  </tbody>\n",
       "</table>\n",
       "</div>"
      ],
      "text/plain": [
       "      time L_or_D\n",
       "0   Dinner      D\n",
       "77   Lunch      L"
      ]
     },
     "execution_count": 200,
     "metadata": {},
     "output_type": "execute_result"
    }
   ],
   "source": [
    "\n",
    "sum_by_smoker_sex = (tips.groupby(['smoker','sex'])[['total_bill','tip']]\n",
    "                        .sum().reset_index())\n",
    "print(sum_by_smoker_sex.sort_values(['smoker','sex']).to_string(index=False))\n",
    "\n",
    "\n",
    "time_map = {'Lunch':'L', 'Dinner':'D'}\n",
    "time_pairs = tips[['time']].drop_duplicates().assign(L_or_D=lambda d: d['time'].map(time_map))\n",
    "time_pairs.sort_values('time')"
   ]
  },
  {
   "cell_type": "markdown",
   "id": "ef965821",
   "metadata": {},
   "source": [
    "### ✍️ Analysis (Grouping & Merging) — 3–5 sentences\n",
    "- Translate one grouped table into a business insight.\n",
    "- How does `tip_pct` vs `tip` change ranking?\n",
    "- What join-key assumptions are you making?\n",
    "\n",
    "### 🔎 Quick checks\n",
    "- Show index/columns of grouped result.\n",
    "- Check row counts before/after a merge.\n",
    "\n",
    "### ➕ Extension (pick one)\n",
    "- Add `avg_tip_pp` and re-rank groups.\n",
    "- Outer join with `_indicator` and explain one mismatch.\n",
    "\n",
    "**Rubric (10 pts):** Correctness 3 • Evidence 2 • Clarity 2 • Reproducibility 2 • Exploration 1\n",
    "\n",
    "---\n",
    "**— Answer —**\n",
    "Aggregating `total_bill` and `tip` by `smoker`×`sex` reveals who contributes most to revenue and tips. \n",
    "Mapping `time` to Lunch/Dinner (L/D) gives a compact categorical representation for joins and reporting. \n",
    "Assumptions: `time` labels are clean and unambiguous; group keys are exhaustive without overlapping meanings.\n"
   ]
  },
  {
   "cell_type": "markdown",
   "id": "117c874b",
   "metadata": {},
   "source": [
    "## 6) Reshaping & Pivoting (15m)"
   ]
  },
  {
   "cell_type": "code",
   "execution_count": 201,
   "id": "c08e5445",
   "metadata": {},
   "outputs": [
    {
     "name": "stderr",
     "output_type": "stream",
     "text": [
      "C:\\Users\\HP\\AppData\\Local\\Temp\\ipykernel_6744\\3973676478.py:1: FutureWarning: The default value of observed=False is deprecated and will change to observed=True in a future version of pandas. Specify observed=False to silence this warning and retain the current behavior\n",
      "  piv = tips.pivot_table(index='day', columns='time', values='tip_pct', aggfunc='mean'); piv\n"
     ]
    },
    {
     "data": {
      "text/html": [
       "<div>\n",
       "<style scoped>\n",
       "    .dataframe tbody tr th:only-of-type {\n",
       "        vertical-align: middle;\n",
       "    }\n",
       "\n",
       "    .dataframe tbody tr th {\n",
       "        vertical-align: top;\n",
       "    }\n",
       "\n",
       "    .dataframe thead th {\n",
       "        text-align: right;\n",
       "    }\n",
       "</style>\n",
       "<table border=\"1\" class=\"dataframe\">\n",
       "  <thead>\n",
       "    <tr style=\"text-align: right;\">\n",
       "      <th>time</th>\n",
       "      <th>Dinner</th>\n",
       "      <th>Lunch</th>\n",
       "    </tr>\n",
       "    <tr>\n",
       "      <th>day</th>\n",
       "      <th></th>\n",
       "      <th></th>\n",
       "    </tr>\n",
       "  </thead>\n",
       "  <tbody>\n",
       "    <tr>\n",
       "      <th>Fri</th>\n",
       "      <td>0.159</td>\n",
       "      <td>0.189</td>\n",
       "    </tr>\n",
       "    <tr>\n",
       "      <th>Sat</th>\n",
       "      <td>0.153</td>\n",
       "      <td>NaN</td>\n",
       "    </tr>\n",
       "    <tr>\n",
       "      <th>Sun</th>\n",
       "      <td>0.167</td>\n",
       "      <td>NaN</td>\n",
       "    </tr>\n",
       "    <tr>\n",
       "      <th>Thur</th>\n",
       "      <td>0.160</td>\n",
       "      <td>0.161</td>\n",
       "    </tr>\n",
       "  </tbody>\n",
       "</table>\n",
       "</div>"
      ],
      "text/plain": [
       "time  Dinner  Lunch\n",
       "day                \n",
       "Fri    0.159  0.189\n",
       "Sat    0.153    NaN\n",
       "Sun    0.167    NaN\n",
       "Thur   0.160  0.161"
      ]
     },
     "execution_count": 201,
     "metadata": {},
     "output_type": "execute_result"
    }
   ],
   "source": [
    "piv = tips.pivot_table(index='day', columns='time', values='tip_pct', aggfunc='mean'); piv"
   ]
  },
  {
   "cell_type": "code",
   "execution_count": 202,
   "id": "04f525c7",
   "metadata": {},
   "outputs": [
    {
     "data": {
      "text/html": [
       "<div>\n",
       "<style scoped>\n",
       "    .dataframe tbody tr th:only-of-type {\n",
       "        vertical-align: middle;\n",
       "    }\n",
       "\n",
       "    .dataframe tbody tr th {\n",
       "        vertical-align: top;\n",
       "    }\n",
       "\n",
       "    .dataframe thead th {\n",
       "        text-align: right;\n",
       "    }\n",
       "</style>\n",
       "<table border=\"1\" class=\"dataframe\">\n",
       "  <thead>\n",
       "    <tr style=\"text-align: right;\">\n",
       "      <th></th>\n",
       "      <th>day</th>\n",
       "      <th>time</th>\n",
       "      <th>metric</th>\n",
       "      <th>value</th>\n",
       "    </tr>\n",
       "  </thead>\n",
       "  <tbody>\n",
       "    <tr>\n",
       "      <th>0</th>\n",
       "      <td>Sun</td>\n",
       "      <td>Dinner</td>\n",
       "      <td>total_bill</td>\n",
       "      <td>16.99</td>\n",
       "    </tr>\n",
       "    <tr>\n",
       "      <th>1</th>\n",
       "      <td>Sun</td>\n",
       "      <td>Dinner</td>\n",
       "      <td>total_bill</td>\n",
       "      <td>10.34</td>\n",
       "    </tr>\n",
       "    <tr>\n",
       "      <th>2</th>\n",
       "      <td>Sun</td>\n",
       "      <td>Dinner</td>\n",
       "      <td>total_bill</td>\n",
       "      <td>21.01</td>\n",
       "    </tr>\n",
       "    <tr>\n",
       "      <th>3</th>\n",
       "      <td>Sun</td>\n",
       "      <td>Dinner</td>\n",
       "      <td>total_bill</td>\n",
       "      <td>23.68</td>\n",
       "    </tr>\n",
       "    <tr>\n",
       "      <th>4</th>\n",
       "      <td>Sun</td>\n",
       "      <td>Dinner</td>\n",
       "      <td>total_bill</td>\n",
       "      <td>24.59</td>\n",
       "    </tr>\n",
       "  </tbody>\n",
       "</table>\n",
       "</div>"
      ],
      "text/plain": [
       "   day    time      metric  value\n",
       "0  Sun  Dinner  total_bill  16.99\n",
       "1  Sun  Dinner  total_bill  10.34\n",
       "2  Sun  Dinner  total_bill  21.01\n",
       "3  Sun  Dinner  total_bill  23.68\n",
       "4  Sun  Dinner  total_bill  24.59"
      ]
     },
     "execution_count": 202,
     "metadata": {},
     "output_type": "execute_result"
    }
   ],
   "source": [
    "long = tips[['day','time','total_bill','tip']].melt(id_vars=['day','time'], var_name='metric', value_name='value'); long.head()"
   ]
  },
  {
   "cell_type": "markdown",
   "id": "8495e343",
   "metadata": {},
   "source": [
    "### ✅ Exercise 6\n",
    "1) Pivot mean `total_bill` by `size`×`day`. 2) Melt back to long with `size` as id."
   ]
  },
  {
   "cell_type": "markdown",
   "id": "aeaaefc8",
   "metadata": {},
   "source": [
    "**Hints:**\n",
    "- Concept: reshape wide↔long.\n",
    "- API: `pivot_table`, `melt`.\n"
   ]
  },
  {
   "cell_type": "code",
   "execution_count": 203,
   "id": "770645ec",
   "metadata": {},
   "outputs": [
    {
     "name": "stderr",
     "output_type": "stream",
     "text": [
      "C:\\Users\\HP\\AppData\\Local\\Temp\\ipykernel_6744\\2480452055.py:1: FutureWarning: The default value of observed=False is deprecated and will change to observed=True in a future version of pandas. Specify observed=False to silence this warning and retain the current behavior\n",
      "  pivot_mean = tips.pivot_table(index='size', columns='day', values='total_bill', aggfunc='mean')\n"
     ]
    },
    {
     "data": {
      "text/html": [
       "<div>\n",
       "<style scoped>\n",
       "    .dataframe tbody tr th:only-of-type {\n",
       "        vertical-align: middle;\n",
       "    }\n",
       "\n",
       "    .dataframe tbody tr th {\n",
       "        vertical-align: top;\n",
       "    }\n",
       "\n",
       "    .dataframe thead th {\n",
       "        text-align: right;\n",
       "    }\n",
       "</style>\n",
       "<table border=\"1\" class=\"dataframe\">\n",
       "  <thead>\n",
       "    <tr style=\"text-align: right;\">\n",
       "      <th>day</th>\n",
       "      <th>Fri</th>\n",
       "      <th>Sat</th>\n",
       "      <th>Sun</th>\n",
       "      <th>Thur</th>\n",
       "    </tr>\n",
       "    <tr>\n",
       "      <th>size</th>\n",
       "      <th></th>\n",
       "      <th></th>\n",
       "      <th></th>\n",
       "      <th></th>\n",
       "    </tr>\n",
       "  </thead>\n",
       "  <tbody>\n",
       "    <tr>\n",
       "      <th>1</th>\n",
       "      <td>8.580</td>\n",
       "      <td>5.160</td>\n",
       "      <td>NaN</td>\n",
       "      <td>10.070</td>\n",
       "    </tr>\n",
       "    <tr>\n",
       "      <th>2</th>\n",
       "      <td>16.322</td>\n",
       "      <td>16.837</td>\n",
       "      <td>17.560</td>\n",
       "      <td>15.157</td>\n",
       "    </tr>\n",
       "    <tr>\n",
       "      <th>3</th>\n",
       "      <td>15.980</td>\n",
       "      <td>25.509</td>\n",
       "      <td>22.184</td>\n",
       "      <td>19.160</td>\n",
       "    </tr>\n",
       "    <tr>\n",
       "      <th>4</th>\n",
       "      <td>40.170</td>\n",
       "      <td>29.876</td>\n",
       "      <td>26.688</td>\n",
       "      <td>29.950</td>\n",
       "    </tr>\n",
       "    <tr>\n",
       "      <th>5</th>\n",
       "      <td>NaN</td>\n",
       "      <td>28.150</td>\n",
       "      <td>27.000</td>\n",
       "      <td>41.190</td>\n",
       "    </tr>\n",
       "    <tr>\n",
       "      <th>6</th>\n",
       "      <td>NaN</td>\n",
       "      <td>NaN</td>\n",
       "      <td>48.170</td>\n",
       "      <td>30.383</td>\n",
       "    </tr>\n",
       "  </tbody>\n",
       "</table>\n",
       "</div>"
      ],
      "text/plain": [
       "day      Fri     Sat     Sun    Thur\n",
       "size                                \n",
       "1      8.580   5.160     NaN  10.070\n",
       "2     16.322  16.837  17.560  15.157\n",
       "3     15.980  25.509  22.184  19.160\n",
       "4     40.170  29.876  26.688  29.950\n",
       "5        NaN  28.150  27.000  41.190\n",
       "6        NaN     NaN  48.170  30.383"
      ]
     },
     "metadata": {},
     "output_type": "display_data"
    },
    {
     "data": {
      "text/html": [
       "<div>\n",
       "<style scoped>\n",
       "    .dataframe tbody tr th:only-of-type {\n",
       "        vertical-align: middle;\n",
       "    }\n",
       "\n",
       "    .dataframe tbody tr th {\n",
       "        vertical-align: top;\n",
       "    }\n",
       "\n",
       "    .dataframe thead th {\n",
       "        text-align: right;\n",
       "    }\n",
       "</style>\n",
       "<table border=\"1\" class=\"dataframe\">\n",
       "  <thead>\n",
       "    <tr style=\"text-align: right;\">\n",
       "      <th></th>\n",
       "      <th>size</th>\n",
       "      <th>day</th>\n",
       "      <th>mean_total_bill</th>\n",
       "    </tr>\n",
       "  </thead>\n",
       "  <tbody>\n",
       "    <tr>\n",
       "      <th>0</th>\n",
       "      <td>1</td>\n",
       "      <td>Fri</td>\n",
       "      <td>8.580</td>\n",
       "    </tr>\n",
       "    <tr>\n",
       "      <th>1</th>\n",
       "      <td>2</td>\n",
       "      <td>Fri</td>\n",
       "      <td>16.322</td>\n",
       "    </tr>\n",
       "    <tr>\n",
       "      <th>2</th>\n",
       "      <td>3</td>\n",
       "      <td>Fri</td>\n",
       "      <td>15.980</td>\n",
       "    </tr>\n",
       "    <tr>\n",
       "      <th>3</th>\n",
       "      <td>4</td>\n",
       "      <td>Fri</td>\n",
       "      <td>40.170</td>\n",
       "    </tr>\n",
       "    <tr>\n",
       "      <th>4</th>\n",
       "      <td>5</td>\n",
       "      <td>Fri</td>\n",
       "      <td>NaN</td>\n",
       "    </tr>\n",
       "  </tbody>\n",
       "</table>\n",
       "</div>"
      ],
      "text/plain": [
       "   size  day  mean_total_bill\n",
       "0     1  Fri            8.580\n",
       "1     2  Fri           16.322\n",
       "2     3  Fri           15.980\n",
       "3     4  Fri           40.170\n",
       "4     5  Fri              NaN"
      ]
     },
     "execution_count": 203,
     "metadata": {},
     "output_type": "execute_result"
    }
   ],
   "source": [
    "\n",
    "pivot_mean = tips.pivot_table(index='size', columns='day', values='total_bill', aggfunc='mean')\n",
    "display(pivot_mean)\n",
    "\n",
    "long_again = pivot_mean.reset_index().melt(id_vars='size', var_name='day', value_name='mean_total_bill')\n",
    "long_again.head()"
   ]
  },
  {
   "cell_type": "markdown",
   "id": "0cb1921e",
   "metadata": {},
   "source": [
    "### ✍️ Analysis (Reshaping & Pivoting) — 3–5 sentences\n",
    "- When did `pivot_table` drop rows/cols vs `melt`?\n",
    "- Explain wide↔long trade-offs here.\n",
    "- Which format suits your chosen chart and why?\n",
    "\n",
    "### 🔎 Quick checks\n",
    "- Confirm shapes of pivot vs long tables.\n",
    "- List index/columns used in your pivot.\n",
    "\n",
    "### ➕ Extension (pick one)\n",
    "- Change `aggfunc` and compare results.\n",
    "- Add a second dimension in pivot.\n",
    "\n",
    "**Rubric (10 pts):** Correctness 3 • Evidence 2 • Clarity 2 • Reproducibility 2 • Exploration 1\n",
    "\n",
    "---\n",
    "**— Answer —**\n",
    "A `size`×`day` pivot of mean `total_bill` shows how party size and weekday interact. \n",
    "Melting back to long format recovers a tidy table, ready for modeling or faceted plotting. \n",
    "Pivoting is ideal for quick summaries; long form is better for pipelines and visualization libraries.\n"
   ]
  },
  {
   "cell_type": "markdown",
   "id": "ef4f97a4",
   "metadata": {},
   "source": [
    "## 7) Mini-Project: When are tips the most generous? (5–10m)"
   ]
  },
  {
   "cell_type": "code",
   "execution_count": 204,
   "id": "de87726c",
   "metadata": {},
   "outputs": [
    {
     "name": "stderr",
     "output_type": "stream",
     "text": [
      "C:\\Users\\HP\\AppData\\Local\\Temp\\ipykernel_6744\\157246538.py:1: FutureWarning: The default value of observed=False is deprecated and will change to observed=True in a future version of pandas. Specify observed=False to silence this warning and retain the current behavior\n",
      "  piv = tips.pivot_table(index='day', columns='time', values='tip_pct', aggfunc='mean')\n"
     ]
    },
    {
     "name": "stdout",
     "output_type": "stream",
     "text": [
      "day   time  \n",
      "Fri   Lunch     0.189\n",
      "Sun   Dinner    0.167\n",
      "Thur  Lunch     0.161\n",
      "      Dinner    0.160\n",
      "Fri   Dinner    0.159\n",
      "dtype: float64\n"
     ]
    },
    {
     "data": {
      "image/png": "[encoded data removed]",
      "text/plain": [
       "<Figure size 640x480 with 2 Axes>"
      ]
     },
     "metadata": {},
     "output_type": "display_data"
    }
   ],
   "source": [
    "piv = tips.pivot_table(index='day', columns='time', values='tip_pct', aggfunc='mean')\n",
    "print(piv.stack().sort_values(ascending=False).head(5))\n",
    "plt.figure(); plt.imshow(piv.values, aspect='auto')\n",
    "plt.title('Mean tip_pct by day & time'); plt.xlabel('time'); plt.ylabel('day')\n",
    "plt.xticks(range(len(piv.columns)), piv.columns.astype(str))\n",
    "plt.yticks(range(len(piv.index)), piv.index.astype(str))\n",
    "plt.colorbar(); plt.show()"
   ]
  },
  {
   "cell_type": "markdown",
   "id": "925fc314",
   "metadata": {},
   "source": [
    "### ✍️ Analysis (Mini-Project (Tips Generosity)) — 3–5 sentences\n",
    "- State your top day×time combo with mean `tip_pct`.\n",
    "- Is it robust to outliers? How to check?\n",
    "- One follow-up action for a restaurant.\n",
    "\n",
    "### 🔎 Quick checks\n",
    "- Show top 3 combos and their counts.\n",
    "- Confirm sample size for top combo.\n",
    "\n",
    "### ➕ Extension (pick one)\n",
    "- Recompute using median `tip_pct`.\n",
    "- Exclude size<2 and compare ranking.\n",
    "\n",
    "**Rubric (10 pts):** Correctness 3 • Evidence 2 • Clarity 2 • Reproducibility 2 • Exploration 1"
   ]
  },
  {
   "cell_type": "markdown",
   "id": "51e3346c",
   "metadata": {},
   "source": [
    "# Advanced Module — Daily Operations Coverage (~60–75m)"
   ]
  },
  {
   "cell_type": "markdown",
   "id": "005fbfe3",
   "metadata": {},
   "source": [
    "## 8) Indexes & MultiIndex (10m)"
   ]
  },
  {
   "cell_type": "code",
   "execution_count": 205,
   "id": "dbd93bbc",
   "metadata": {},
   "outputs": [
    {
     "data": {
      "text/html": [
       "<div>\n",
       "<style scoped>\n",
       "    .dataframe tbody tr th:only-of-type {\n",
       "        vertical-align: middle;\n",
       "    }\n",
       "\n",
       "    .dataframe tbody tr th {\n",
       "        vertical-align: top;\n",
       "    }\n",
       "\n",
       "    .dataframe thead th {\n",
       "        text-align: right;\n",
       "    }\n",
       "</style>\n",
       "<table border=\"1\" class=\"dataframe\">\n",
       "  <thead>\n",
       "    <tr style=\"text-align: right;\">\n",
       "      <th></th>\n",
       "      <th></th>\n",
       "      <th>total_bill</th>\n",
       "      <th>tip</th>\n",
       "      <th>sex</th>\n",
       "      <th>smoker</th>\n",
       "      <th>size</th>\n",
       "      <th>tip_pct</th>\n",
       "      <th>tip_per_person</th>\n",
       "      <th>server_name</th>\n",
       "    </tr>\n",
       "    <tr>\n",
       "      <th>day</th>\n",
       "      <th>time</th>\n",
       "      <th></th>\n",
       "      <th></th>\n",
       "      <th></th>\n",
       "      <th></th>\n",
       "      <th></th>\n",
       "      <th></th>\n",
       "      <th></th>\n",
       "      <th></th>\n",
       "    </tr>\n",
       "  </thead>\n",
       "  <tbody>\n",
       "    <tr>\n",
       "      <th rowspan=\"5\" valign=\"top\">Sat</th>\n",
       "      <th>Dinner</th>\n",
       "      <td>20.65</td>\n",
       "      <td>3.35</td>\n",
       "      <td>Male</td>\n",
       "      <td>No</td>\n",
       "      <td>3</td>\n",
       "      <td>0.162</td>\n",
       "      <td>1.117</td>\n",
       "      <td>Bob</td>\n",
       "    </tr>\n",
       "    <tr>\n",
       "      <th>Dinner</th>\n",
       "      <td>17.92</td>\n",
       "      <td>4.08</td>\n",
       "      <td>Male</td>\n",
       "      <td>No</td>\n",
       "      <td>2</td>\n",
       "      <td>0.228</td>\n",
       "      <td>2.040</td>\n",
       "      <td>Alice</td>\n",
       "    </tr>\n",
       "    <tr>\n",
       "      <th>Dinner</th>\n",
       "      <td>20.29</td>\n",
       "      <td>2.75</td>\n",
       "      <td>Female</td>\n",
       "      <td>No</td>\n",
       "      <td>2</td>\n",
       "      <td>0.136</td>\n",
       "      <td>1.375</td>\n",
       "      <td>Bob</td>\n",
       "    </tr>\n",
       "    <tr>\n",
       "      <th>Dinner</th>\n",
       "      <td>15.77</td>\n",
       "      <td>2.23</td>\n",
       "      <td>Female</td>\n",
       "      <td>No</td>\n",
       "      <td>2</td>\n",
       "      <td>0.141</td>\n",
       "      <td>1.115</td>\n",
       "      <td>Alice</td>\n",
       "    </tr>\n",
       "    <tr>\n",
       "      <th>Dinner</th>\n",
       "      <td>39.42</td>\n",
       "      <td>7.58</td>\n",
       "      <td>Male</td>\n",
       "      <td>No</td>\n",
       "      <td>4</td>\n",
       "      <td>0.192</td>\n",
       "      <td>1.895</td>\n",
       "      <td>Bob</td>\n",
       "    </tr>\n",
       "  </tbody>\n",
       "</table>\n",
       "</div>"
      ],
      "text/plain": [
       "            total_bill   tip     sex smoker  size  tip_pct  tip_per_person  \\\n",
       "day time                                                                     \n",
       "Sat Dinner       20.65  3.35    Male     No     3    0.162           1.117   \n",
       "    Dinner       17.92  4.08    Male     No     2    0.228           2.040   \n",
       "    Dinner       20.29  2.75  Female     No     2    0.136           1.375   \n",
       "    Dinner       15.77  2.23  Female     No     2    0.141           1.115   \n",
       "    Dinner       39.42  7.58    Male     No     4    0.192           1.895   \n",
       "\n",
       "           server_name  \n",
       "day time                \n",
       "Sat Dinner         Bob  \n",
       "    Dinner       Alice  \n",
       "    Dinner         Bob  \n",
       "    Dinner       Alice  \n",
       "    Dinner         Bob  "
      ]
     },
     "execution_count": 205,
     "metadata": {},
     "output_type": "execute_result"
    }
   ],
   "source": [
    "ti = tips.set_index(['day','time']).sort_index()\n",
    "ti.loc[('Sat','Dinner')].head()"
   ]
  },
  {
   "cell_type": "code",
   "execution_count": 206,
   "id": "bcf6ce27",
   "metadata": {},
   "outputs": [
    {
     "name": "stderr",
     "output_type": "stream",
     "text": [
      "C:\\Users\\HP\\AppData\\Local\\Temp\\ipykernel_6744\\1221681098.py:1: FutureWarning: The default of observed=False is deprecated and will be changed to True in a future version of pandas. Pass observed=False to retain current behavior or observed=True to adopt the future default and silence this warning.\n",
      "  ti.groupby(level=['day','time'])['tip_pct'].mean().reset_index(name='mean_tip_pct').head()\n"
     ]
    },
    {
     "data": {
      "text/html": [
       "<div>\n",
       "<style scoped>\n",
       "    .dataframe tbody tr th:only-of-type {\n",
       "        vertical-align: middle;\n",
       "    }\n",
       "\n",
       "    .dataframe tbody tr th {\n",
       "        vertical-align: top;\n",
       "    }\n",
       "\n",
       "    .dataframe thead th {\n",
       "        text-align: right;\n",
       "    }\n",
       "</style>\n",
       "<table border=\"1\" class=\"dataframe\">\n",
       "  <thead>\n",
       "    <tr style=\"text-align: right;\">\n",
       "      <th></th>\n",
       "      <th>day</th>\n",
       "      <th>time</th>\n",
       "      <th>mean_tip_pct</th>\n",
       "    </tr>\n",
       "  </thead>\n",
       "  <tbody>\n",
       "    <tr>\n",
       "      <th>0</th>\n",
       "      <td>Fri</td>\n",
       "      <td>Dinner</td>\n",
       "      <td>0.159</td>\n",
       "    </tr>\n",
       "    <tr>\n",
       "      <th>1</th>\n",
       "      <td>Fri</td>\n",
       "      <td>Lunch</td>\n",
       "      <td>0.189</td>\n",
       "    </tr>\n",
       "    <tr>\n",
       "      <th>2</th>\n",
       "      <td>Sat</td>\n",
       "      <td>Dinner</td>\n",
       "      <td>0.153</td>\n",
       "    </tr>\n",
       "    <tr>\n",
       "      <th>3</th>\n",
       "      <td>Sat</td>\n",
       "      <td>Lunch</td>\n",
       "      <td>NaN</td>\n",
       "    </tr>\n",
       "    <tr>\n",
       "      <th>4</th>\n",
       "      <td>Sun</td>\n",
       "      <td>Dinner</td>\n",
       "      <td>0.167</td>\n",
       "    </tr>\n",
       "  </tbody>\n",
       "</table>\n",
       "</div>"
      ],
      "text/plain": [
       "   day    time  mean_tip_pct\n",
       "0  Fri  Dinner         0.159\n",
       "1  Fri   Lunch         0.189\n",
       "2  Sat  Dinner         0.153\n",
       "3  Sat   Lunch           NaN\n",
       "4  Sun  Dinner         0.167"
      ]
     },
     "execution_count": 206,
     "metadata": {},
     "output_type": "execute_result"
    }
   ],
   "source": [
    "ti.groupby(level=['day','time'])['tip_pct'].mean().reset_index(name='mean_tip_pct').head()"
   ]
  },
  {
   "cell_type": "markdown",
   "id": "71680fb6",
   "metadata": {},
   "source": [
    "### ✍️ Analysis (Indexes & MultiIndex) — 3–5 sentences\n",
    "- What did a MultiIndex buy you over flat columns?\n",
    "- Give one easier slice enabled by the index.\n",
    "- Any pitfalls when saving/loading with MultiIndex?\n",
    "\n",
    "### 🔎 Quick checks\n",
    "- Print `.index.names` and level dtypes.\n",
    "- Show one `.loc` label slice on multi-level.\n",
    "\n",
    "### ➕ Extension (pick one)\n",
    "- Swap levels and explain slicing change.\n",
    "- Reset index and compare to original columns.\n",
    "\n",
    "**Rubric (10 pts):** Correctness 3 • Evidence 2 • Clarity 2 • Reproducibility 2 • Exploration 1"
   ]
  },
  {
   "cell_type": "markdown",
   "id": "95837e02",
   "metadata": {},
   "source": [
    "## 9) Time Series & Resampling (15m)"
   ]
  },
  {
   "cell_type": "code",
   "execution_count": 207,
   "id": "b57e9f20",
   "metadata": {},
   "outputs": [
    {
     "data": {
      "text/html": [
       "<div>\n",
       "<style scoped>\n",
       "    .dataframe tbody tr th:only-of-type {\n",
       "        vertical-align: middle;\n",
       "    }\n",
       "\n",
       "    .dataframe tbody tr th {\n",
       "        vertical-align: top;\n",
       "    }\n",
       "\n",
       "    .dataframe thead th {\n",
       "        text-align: right;\n",
       "    }\n",
       "</style>\n",
       "<table border=\"1\" class=\"dataframe\">\n",
       "  <thead>\n",
       "    <tr style=\"text-align: right;\">\n",
       "      <th></th>\n",
       "      <th>total_bill</th>\n",
       "      <th>tip</th>\n",
       "      <th>tip_pct</th>\n",
       "      <th>tip_pct_roll4</th>\n",
       "    </tr>\n",
       "    <tr>\n",
       "      <th>date</th>\n",
       "      <th></th>\n",
       "      <th></th>\n",
       "      <th></th>\n",
       "      <th></th>\n",
       "    </tr>\n",
       "  </thead>\n",
       "  <tbody>\n",
       "    <tr>\n",
       "      <th>2024-01-07</th>\n",
       "      <td>130.67</td>\n",
       "      <td>19.80</td>\n",
       "      <td>0.152</td>\n",
       "      <td>0.152</td>\n",
       "    </tr>\n",
       "    <tr>\n",
       "      <th>2024-01-14</th>\n",
       "      <td>136.08</td>\n",
       "      <td>19.59</td>\n",
       "      <td>0.144</td>\n",
       "      <td>0.148</td>\n",
       "    </tr>\n",
       "    <tr>\n",
       "      <th>2024-01-21</th>\n",
       "      <td>118.57</td>\n",
       "      <td>23.25</td>\n",
       "      <td>0.196</td>\n",
       "      <td>0.164</td>\n",
       "    </tr>\n",
       "    <tr>\n",
       "      <th>2024-01-28</th>\n",
       "      <td>139.17</td>\n",
       "      <td>22.08</td>\n",
       "      <td>0.159</td>\n",
       "      <td>0.163</td>\n",
       "    </tr>\n",
       "    <tr>\n",
       "      <th>2024-02-04</th>\n",
       "      <td>122.78</td>\n",
       "      <td>19.97</td>\n",
       "      <td>0.163</td>\n",
       "      <td>0.165</td>\n",
       "    </tr>\n",
       "  </tbody>\n",
       "</table>\n",
       "</div>"
      ],
      "text/plain": [
       "            total_bill    tip  tip_pct  tip_pct_roll4\n",
       "date                                                 \n",
       "2024-01-07      130.67  19.80    0.152          0.152\n",
       "2024-01-14      136.08  19.59    0.144          0.148\n",
       "2024-01-21      118.57  23.25    0.196          0.164\n",
       "2024-01-28      139.17  22.08    0.159          0.163\n",
       "2024-02-04      122.78  19.97    0.163          0.165"
      ]
     },
     "execution_count": 207,
     "metadata": {},
     "output_type": "execute_result"
    }
   ],
   "source": [
    "tips_ts = tips.copy()\n",
    "tips_ts['date'] = pd.to_datetime('2024-01-01') + pd.to_timedelta(np.arange(len(tips_ts)), unit='D')\n",
    "tips_ts = tips_ts.set_index('date').sort_index()\n",
    "weekly = tips_ts.resample('W')[['total_bill','tip']].sum()\n",
    "weekly['tip_pct'] = weekly['tip']/weekly['total_bill']\n",
    "weekly['tip_pct_roll4'] = weekly['tip_pct'].rolling(4, min_periods=1).mean()\n",
    "weekly.head()"
   ]
  },
  {
   "cell_type": "markdown",
   "id": "c8fe7dda",
   "metadata": {},
   "source": [
    "### ✍️ Analysis (Time Series & Resampling) — 3–5 sentences\n",
    "- What trend do you see weekly vs monthly?\n",
    "- Interpret divergence between raw and rolling series.\n",
    "- Why pick `W` vs `MS`?\n",
    "\n",
    "### 🔎 Quick checks\n",
    "- Report min/max dates in your index.\n",
    "- State the rolling window used and its effect.\n",
    "\n",
    "### ➕ Extension (pick one)\n",
    "- Try a different window size and compare.\n",
    "- Plot both resampled and rolling series; note one change.\n",
    "\n",
    "**Rubric (10 pts):** Correctness 3 • Evidence 2 • Clarity 2 • Reproducibility 2 • Exploration 1"
   ]
  },
  {
   "cell_type": "markdown",
   "id": "0948f0ac",
   "metadata": {},
   "source": [
    "## 10) Rolling & Window Ops (10m)"
   ]
  },
  {
   "cell_type": "code",
   "execution_count": 208,
   "id": "9628f551",
   "metadata": {},
   "outputs": [
    {
     "data": {
      "text/html": [
       "<div>\n",
       "<style scoped>\n",
       "    .dataframe tbody tr th:only-of-type {\n",
       "        vertical-align: middle;\n",
       "    }\n",
       "\n",
       "    .dataframe tbody tr th {\n",
       "        vertical-align: top;\n",
       "    }\n",
       "\n",
       "    .dataframe thead th {\n",
       "        text-align: right;\n",
       "    }\n",
       "</style>\n",
       "<table border=\"1\" class=\"dataframe\">\n",
       "  <thead>\n",
       "    <tr style=\"text-align: right;\">\n",
       "      <th></th>\n",
       "      <th>total_bill</th>\n",
       "      <th>roll14_med</th>\n",
       "    </tr>\n",
       "    <tr>\n",
       "      <th>date</th>\n",
       "      <th></th>\n",
       "      <th></th>\n",
       "    </tr>\n",
       "  </thead>\n",
       "  <tbody>\n",
       "    <tr>\n",
       "      <th>2024-01-01</th>\n",
       "      <td>16.99</td>\n",
       "      <td>16.990</td>\n",
       "    </tr>\n",
       "    <tr>\n",
       "      <th>2024-01-02</th>\n",
       "      <td>10.34</td>\n",
       "      <td>13.665</td>\n",
       "    </tr>\n",
       "    <tr>\n",
       "      <th>2024-01-03</th>\n",
       "      <td>21.01</td>\n",
       "      <td>16.990</td>\n",
       "    </tr>\n",
       "    <tr>\n",
       "      <th>2024-01-04</th>\n",
       "      <td>23.68</td>\n",
       "      <td>19.000</td>\n",
       "    </tr>\n",
       "    <tr>\n",
       "      <th>2024-01-05</th>\n",
       "      <td>24.59</td>\n",
       "      <td>21.010</td>\n",
       "    </tr>\n",
       "  </tbody>\n",
       "</table>\n",
       "</div>"
      ],
      "text/plain": [
       "            total_bill  roll14_med\n",
       "date                              \n",
       "2024-01-01       16.99      16.990\n",
       "2024-01-02       10.34      13.665\n",
       "2024-01-03       21.01      16.990\n",
       "2024-01-04       23.68      19.000\n",
       "2024-01-05       24.59      21.010"
      ]
     },
     "execution_count": 208,
     "metadata": {},
     "output_type": "execute_result"
    }
   ],
   "source": [
    "daily = tips_ts.resample('D')[['total_bill']].sum()\n",
    "daily['roll14_med'] = daily['total_bill'].rolling(14, min_periods=1).median()\n",
    "daily[['total_bill','roll14_med']].head()"
   ]
  },
  {
   "cell_type": "markdown",
   "id": "6001451d",
   "metadata": {},
   "source": [
    "### ✍️ Analysis (Rolling & Window Ops) — 3–5 sentences\n",
    "- Why is median sometimes preferable to mean in rolling stats?\n",
    "- What happens at the edges for rolling windows?\n",
    "- When is `expanding` more suitable than `rolling`?\n",
    "\n",
    "### 🔎 Quick checks\n",
    "- Show first 5 non-NaN rolling results.\n",
    "- Report `min_periods` and justify it.\n",
    "\n",
    "### ➕ Extension (pick one)\n",
    "- Compute an additional rolling metric (std/min) and interpret.\n",
    "- Compare 7 vs 14-day windows with one sentence.\n",
    "\n",
    "**Rubric (10 pts):** Correctness 3 • Evidence 2 • Clarity 2 • Reproducibility 2 • Exploration 1"
   ]
  },
  {
   "cell_type": "markdown",
   "id": "22d588c0",
   "metadata": {},
   "source": [
    "## 11) Text Data: vectorized & regex (10m)"
   ]
  },
  {
   "cell_type": "code",
   "execution_count": 209,
   "id": "7fd61fde",
   "metadata": {},
   "outputs": [
    {
     "data": {
      "text/html": [
       "<div>\n",
       "<style scoped>\n",
       "    .dataframe tbody tr th:only-of-type {\n",
       "        vertical-align: middle;\n",
       "    }\n",
       "\n",
       "    .dataframe tbody tr th {\n",
       "        vertical-align: top;\n",
       "    }\n",
       "\n",
       "    .dataframe thead th {\n",
       "        text-align: right;\n",
       "    }\n",
       "</style>\n",
       "<table border=\"1\" class=\"dataframe\">\n",
       "  <thead>\n",
       "    <tr style=\"text-align: right;\">\n",
       "      <th></th>\n",
       "      <th>note</th>\n",
       "      <th>is_vip</th>\n",
       "      <th>allergy</th>\n",
       "    </tr>\n",
       "  </thead>\n",
       "  <tbody>\n",
       "    <tr>\n",
       "      <th>0</th>\n",
       "      <td>VIP table</td>\n",
       "      <td>True</td>\n",
       "      <td>NaN</td>\n",
       "    </tr>\n",
       "    <tr>\n",
       "      <th>1</th>\n",
       "      <td>Late night</td>\n",
       "      <td>False</td>\n",
       "      <td>NaN</td>\n",
       "    </tr>\n",
       "    <tr>\n",
       "      <th>2</th>\n",
       "      <td>Allergic: nuts</td>\n",
       "      <td>False</td>\n",
       "      <td>nuts</td>\n",
       "    </tr>\n",
       "    <tr>\n",
       "      <th>3</th>\n",
       "      <td>Birthday</td>\n",
       "      <td>False</td>\n",
       "      <td>NaN</td>\n",
       "    </tr>\n",
       "    <tr>\n",
       "      <th>4</th>\n",
       "      <td>Family</td>\n",
       "      <td>False</td>\n",
       "      <td>NaN</td>\n",
       "    </tr>\n",
       "  </tbody>\n",
       "</table>\n",
       "</div>"
      ],
      "text/plain": [
       "             note  is_vip allergy\n",
       "0       VIP table    True     NaN\n",
       "1      Late night   False     NaN\n",
       "2  Allergic: nuts   False    nuts\n",
       "3        Birthday   False     NaN\n",
       "4          Family   False     NaN"
      ]
     },
     "execution_count": 209,
     "metadata": {},
     "output_type": "execute_result"
    }
   ],
   "source": [
    "notes = np.array(['VIP table','Late night','Allergic: nuts','Birthday','Family','vip guest'])\n",
    "tips_txt = tips.copy()\n",
    "tips_txt['note'] = np.resize(notes, len(tips_txt)).astype('str')\n",
    "tips_txt['is_vip'] = tips_txt['note'].str.contains('vip', case=False)\n",
    "tips_txt['allergy'] = tips_txt['note'].str.extract(r'Allergic:\\s*(\\w+)', expand=False)\n",
    "tips_txt[['note','is_vip','allergy']].head()"
   ]
  },
  {
   "cell_type": "markdown",
   "id": "3a7aef21",
   "metadata": {},
   "source": [
    "### ✍️ Analysis (Text / Regex) — 3–5 sentences\n",
    "- Which regex or string op gave most value here?\n",
    "- How sensitive are your results to case/spacing?\n",
    "- One potential false positive in your pattern.\n",
    "\n",
    "### 🔎 Quick checks\n",
    "- Print counts of a detected flag (e.g., VIP).\n",
    "- Show unique extracted tokens (e.g., allergies).\n",
    "\n",
    "### ➕ Extension (pick one)\n",
    "- Add a refined regex (word boundaries) and compare counts.\n",
    "- Normalize text further and re-check.\n",
    "\n",
    "**Rubric (10 pts):** Correctness 3 • Evidence 2 • Clarity 2 • Reproducibility 2 • Exploration 1"
   ]
  },
  {
   "cell_type": "markdown",
   "id": "a2ced289",
   "metadata": {},
   "source": [
    "## 12) Nullable dtypes & Memory (5m)"
   ]
  },
  {
   "cell_type": "code",
   "execution_count": 210,
   "id": "0ad884d2",
   "metadata": {},
   "outputs": [
    {
     "data": {
      "text/plain": [
       "Index               132\n",
       "total_bill         1952\n",
       "tip                1952\n",
       "sex                 460\n",
       "smoker              455\n",
       "                  ...  \n",
       "tip_per_person     1952\n",
       "server_name       12936\n",
       "size_N             2196\n",
       "sex_S             13106\n",
       "day_C               625\n",
       "Length: 14, dtype: int64"
      ]
     },
     "execution_count": 210,
     "metadata": {},
     "output_type": "execute_result"
    }
   ],
   "source": [
    "tips_mem = tips.copy()\n",
    "tips_mem['size_N'] = tips_mem['size'].astype('Int64')\n",
    "tips_mem['sex_S']  = tips_mem['sex'].astype('string')\n",
    "tips_mem['day_C']  = tips_mem['day'].astype('category')\n",
    "tips_mem.memory_usage(deep=True)"
   ]
  },
  {
   "cell_type": "markdown",
   "id": "2fb2e76f",
   "metadata": {},
   "source": [
    "### ✍️ Analysis (Dtypes & Memory) — 3–5 sentences\n",
    "- What memory savings did `category` or `string` yield?\n",
    "- When would you avoid `category`?\n",
    "- Any effect on joins/groupbys?\n",
    "\n",
    "### 🔎 Quick checks\n",
    "- Show `memory_usage(deep=True)` before/after one cast.\n",
    "- List `.cat.categories` for one column.\n",
    "\n",
    "### ➕ Extension (pick one)\n",
    "- Downcast numerics where safe and report delta.\n",
    "- Switch one feature to `Int64` and explain why.\n",
    "\n",
    "**Rubric (10 pts):** Correctness 3 • Evidence 2 • Clarity 2 • Reproducibility 2 • Exploration 1"
   ]
  },
  {
   "cell_type": "markdown",
   "id": "7476f23d",
   "metadata": {},
   "source": [
    "## 13) I/O: CSV, Parquet, JSON, SQL (10m)"
   ]
  },
  {
   "cell_type": "code",
   "execution_count": 211,
   "id": "2911f112",
   "metadata": {},
   "outputs": [
    {
     "data": {
      "text/plain": [
       "total_bill    0\n",
       "tip           0\n",
       "tip_pct       0\n",
       "size          0\n",
       "sex           0\n",
       "smoker        0\n",
       "day           0\n",
       "time          0\n",
       "dtype: int64"
      ]
     },
     "execution_count": 211,
     "metadata": {},
     "output_type": "execute_result"
    }
   ],
   "source": [
    "tips_interp = tips_na.sort_values('total_bill')\n",
    "tips_interp = tips_interp.drop(columns=['sex','smoker','day','time']).interpolate().join(tips_na[['sex','smoker','day','time']])\n",
    "tips_interp.isna().sum()\n"
   ]
  },
  {
   "cell_type": "markdown",
   "id": "0d127add",
   "metadata": {},
   "source": [
    "### ✍️ Analysis (I/O) — 3–5 sentences\n",
    "- Which format is best for speed vs size for this table? Why?\n",
    "- Did any dtype change after round-trip?\n",
    "- When to use line-delimited JSON?\n",
    "\n",
    "### 🔎 Quick checks\n",
    "- Compare shapes from CSV/Parquet/JSON loads.\n",
    "- Show one dtype discrepancy and fix it.\n",
    "\n",
    "### ➕ Extension (pick one)\n",
    "- Compress CSV (gzip) and note file size.\n",
    "- Do a small SQL query and validate results match a groupby.\n",
    "\n",
    "**Rubric (10 pts):** Correctness 3 • Evidence 2 • Clarity 2 • Reproducibility 2 • Exploration 1"
   ]
  },
  {
   "cell_type": "markdown",
   "id": "d4934ec0",
   "metadata": {},
   "source": [
    "## 14) Join Patterns (10–15m)"
   ]
  },
  {
   "cell_type": "code",
   "execution_count": 212,
   "id": "86bb49c6",
   "metadata": {},
   "outputs": [
    {
     "name": "stderr",
     "output_type": "stream",
     "text": [
      "C:\\Users\\HP\\AppData\\Local\\Temp\\ipykernel_6744\\1235496268.py:2: FutureWarning: The default of observed=False is deprecated and will be changed to True in a future version of pandas. Pass observed=False to retain current behavior or observed=True to adopt the future default and silence this warning.\n",
      "  right = tips[['day','time','tip']].groupby(['day','time']).mean().reset_index().rename(columns={'tip':'avg_tip'})\n"
     ]
    },
    {
     "data": {
      "text/html": [
       "<div>\n",
       "<style scoped>\n",
       "    .dataframe tbody tr th:only-of-type {\n",
       "        vertical-align: middle;\n",
       "    }\n",
       "\n",
       "    .dataframe tbody tr th {\n",
       "        vertical-align: top;\n",
       "    }\n",
       "\n",
       "    .dataframe thead th {\n",
       "        text-align: right;\n",
       "    }\n",
       "</style>\n",
       "<table border=\"1\" class=\"dataframe\">\n",
       "  <thead>\n",
       "    <tr style=\"text-align: right;\">\n",
       "      <th></th>\n",
       "      <th>day</th>\n",
       "      <th>time</th>\n",
       "      <th>size</th>\n",
       "      <th>avg_tip</th>\n",
       "      <th>_merge</th>\n",
       "    </tr>\n",
       "  </thead>\n",
       "  <tbody>\n",
       "    <tr>\n",
       "      <th>0</th>\n",
       "      <td>Fri</td>\n",
       "      <td>Dinner</td>\n",
       "      <td>2.0</td>\n",
       "      <td>2.940</td>\n",
       "      <td>both</td>\n",
       "    </tr>\n",
       "    <tr>\n",
       "      <th>1</th>\n",
       "      <td>Fri</td>\n",
       "      <td>Dinner</td>\n",
       "      <td>4.0</td>\n",
       "      <td>2.940</td>\n",
       "      <td>both</td>\n",
       "    </tr>\n",
       "    <tr>\n",
       "      <th>2</th>\n",
       "      <td>Fri</td>\n",
       "      <td>Lunch</td>\n",
       "      <td>2.0</td>\n",
       "      <td>2.383</td>\n",
       "      <td>both</td>\n",
       "    </tr>\n",
       "    <tr>\n",
       "      <th>3</th>\n",
       "      <td>Fri</td>\n",
       "      <td>Lunch</td>\n",
       "      <td>1.0</td>\n",
       "      <td>2.383</td>\n",
       "      <td>both</td>\n",
       "    </tr>\n",
       "    <tr>\n",
       "      <th>4</th>\n",
       "      <td>Fri</td>\n",
       "      <td>Lunch</td>\n",
       "      <td>3.0</td>\n",
       "      <td>2.383</td>\n",
       "      <td>both</td>\n",
       "    </tr>\n",
       "  </tbody>\n",
       "</table>\n",
       "</div>"
      ],
      "text/plain": [
       "   day    time  size  avg_tip _merge\n",
       "0  Fri  Dinner   2.0    2.940   both\n",
       "1  Fri  Dinner   4.0    2.940   both\n",
       "2  Fri   Lunch   2.0    2.383   both\n",
       "3  Fri   Lunch   1.0    2.383   both\n",
       "4  Fri   Lunch   3.0    2.383   both"
      ]
     },
     "execution_count": 212,
     "metadata": {},
     "output_type": "execute_result"
    }
   ],
   "source": [
    "left = tips[['day','time','size']].drop_duplicates().copy()\n",
    "right = tips[['day','time','tip']].groupby(['day','time']).mean().reset_index().rename(columns={'tip':'avg_tip'})\n",
    "joined = left.merge(right, on=['day','time'], how='outer', indicator=True)\n",
    "joined.head()"
   ]
  },
  {
   "cell_type": "code",
   "execution_count": 213,
   "id": "c4c423d4",
   "metadata": {},
   "outputs": [
    {
     "data": {
      "text/plain": [
       "22"
      ]
     },
     "execution_count": 213,
     "metadata": {},
     "output_type": "execute_result"
    }
   ],
   "source": [
    "\n",
    "right_only = joined.loc[joined['_merge']=='right_only', right.columns]\n",
    "inner_rows = joined.loc[joined['_merge']=='both', left.columns].drop_duplicates()\n",
    "len(inner_rows)"
   ]
  },
  {
   "cell_type": "code",
   "execution_count": 214,
   "id": "a8ed62ce",
   "metadata": {},
   "outputs": [
    {
     "name": "stderr",
     "output_type": "stream",
     "text": [
      "C:\\Users\\HP\\AppData\\Local\\Temp\\ipykernel_6744\\2116711830.py:6: FutureWarning: 'H' is deprecated and will be removed in a future version. Please use 'h' instead of 'H'.\n",
      "  asof_join = pd.merge_asof(events, measures, on='when', direction='nearest', tolerance=pd.Timedelta('1H'))\n"
     ]
    },
    {
     "data": {
      "text/plain": [
       "(    day  rank  score\n",
       " 0   Fri   1.0    NaN\n",
       " 1   Sat   2.0   80.0\n",
       " 2   Sun   3.0   90.0\n",
       " 3  Thur   NaN   70.0,\n",
       "                  when event  value\n",
       " 0 2024-01-01 10:00:00     A     10\n",
       " 1 2024-01-02 12:30:00     B     20\n",
       " 2 2024-01-04 09:00:00     C     30)"
      ]
     },
     "execution_count": 214,
     "metadata": {},
     "output_type": "execute_result"
    }
   ],
   "source": [
    "\n",
    "a = pd.DataFrame({'day':['Fri','Sat','Sun'], 'rank':[1,2,3]})\n",
    "b = pd.DataFrame({'day':['Thur','Sat','Sun'], 'score':[70,80,90]})\n",
    "ordered = pd.merge_ordered(a, b, on='day', how='outer')\n",
    "events = pd.DataFrame({'when': pd.to_datetime(['2024-01-01 10:00','2024-01-02 12:30','2024-01-04 09:00']),'event':['A','B','C']}).sort_values('when')\n",
    "measures = pd.DataFrame({'when': pd.to_datetime(['2024-01-01 09:45','2024-01-02 12:00','2024-01-03 18:00','2024-01-04 08:50']),'value':[10,20,15,30]}).sort_values('when')\n",
    "asof_join = pd.merge_asof(events, measures, on='when', direction='nearest', tolerance=pd.Timedelta('1H'))\n",
    "ordered.head(), asof_join.head()"
   ]
  },
  {
   "cell_type": "markdown",
   "id": "8ba42407",
   "metadata": {},
   "source": [
    "### ✍️ Analysis (Joins) — 3–5 sentences\n",
    "- Read `_indicator` results—what mismatches did you find?\n",
    "- Where would `merge_asof` fit in a real pipeline?\n",
    "- Any ordering assumptions for `merge_ordered`?\n",
    "\n",
    "### 🔎 Quick checks\n",
    "- Report counts for left/right/inner.\n",
    "- Show 2 sample rows from an anti-join.\n",
    "\n",
    "### ➕ Extension (pick one)\n",
    "- Perform a semi-join and explain the use-case.\n",
    "- Add a composite key and re-merge.\n",
    "\n",
    "**Rubric (10 pts):** Correctness 3 • Evidence 2 • Clarity 2 • Reproducibility 2 • Exploration 1"
   ]
  },
  {
   "cell_type": "markdown",
   "id": "7c3fb9cd",
   "metadata": {},
   "source": [
    "## 15) Method Chaining & `.pipe`, `.query`, `.eval` (10m)"
   ]
  },
  {
   "cell_type": "code",
   "execution_count": 215,
   "id": "edc70fe5",
   "metadata": {},
   "outputs": [
    {
     "name": "stderr",
     "output_type": "stream",
     "text": [
      "C:\\Users\\HP\\AppData\\Local\\Temp\\ipykernel_6744\\4069205455.py:3: FutureWarning: The default of observed=False is deprecated and will be changed to True in a future version of pandas. Pass observed=False to retain current behavior or observed=True to adopt the future default and silence this warning.\n",
      "  .groupby('day').agg(mean_bill_pp=('bill_per_person','mean'),\n"
     ]
    },
    {
     "data": {
      "text/plain": [
       "(      mean_bill_pp  mean_tip_pct\n",
       " day                             \n",
       " Thur         9.390         0.160\n",
       " Fri          8.995         0.159\n",
       " Sat          8.187         0.153\n",
       " Sun          7.864         0.167,\n",
       "    total_bill  size  bill_pp\n",
       " 0       16.99     2    8.495\n",
       " 1       10.34     3    3.447\n",
       " 2       21.01     3    7.003\n",
       " 3       23.68     2   11.840\n",
       " 4       24.59     4    6.147)"
      ]
     },
     "execution_count": 215,
     "metadata": {},
     "output_type": "execute_result"
    }
   ],
   "source": [
    "def add_bill_per_person(df): return df.assign(bill_per_person = df['total_bill']/df['size'])\n",
    "pipe_demo = (tips.query(\"time=='Dinner'\").pipe(add_bill_per_person)\n",
    "             .groupby('day').agg(mean_bill_pp=('bill_per_person','mean'),\n",
    "                                 mean_tip_pct=('tip_pct','mean'))\n",
    "             .sort_values('mean_bill_pp', ascending=False))\n",
    "eval_demo = tips.eval('bill_pp = total_bill / size')\n",
    "pipe_demo.head(), eval_demo[['total_bill','size','bill_pp']].head()"
   ]
  },
  {
   "cell_type": "markdown",
   "id": "a3f344ca",
   "metadata": {},
   "source": [
    "### ✍️ Analysis (Method Chaining) — 3–5 sentences\n",
    "- What made the chained pipeline clearer or riskier?\n",
    "- Where would you break the chain for debugging?\n",
    "- When is `.eval` useful vs risky?\n",
    "\n",
    "### 🔎 Quick checks\n",
    "- Show final columns of your pipeline result.\n",
    "- Confirm idempotency by re-running.\n",
    "\n",
    "### ➕ Extension (pick one)\n",
    "- Refactor an earlier analysis into a chain; compare readability.\n",
    "- Encapsulate a step into `.pipe` and reuse it.\n",
    "\n",
    "**Rubric (10 pts):** Correctness 3 • Evidence 2 • Clarity 2 • Reproducibility 2 • Exploration 1"
   ]
  },
  {
   "cell_type": "markdown",
   "id": "2e0105b9",
   "metadata": {},
   "source": [
    "## 16) Crosstab, `cut/qcut`, `where/mask` (5–10m)"
   ]
  },
  {
   "cell_type": "code",
   "execution_count": 216,
   "id": "0346954b",
   "metadata": {},
   "outputs": [
    {
     "name": "stderr",
     "output_type": "stream",
     "text": [
      "C:\\Users\\HP\\AppData\\Local\\Temp\\ipykernel_6744\\2604880072.py:4: FutureWarning: The default of observed=False is deprecated and will be changed to True in a future version of pandas. Pass observed=False to retain current behavior or observed=True to adopt the future default and silence this warning.\n",
      "  bucket_mean = tips_bins.groupby('bill_bucket')['tip'].mean()\n",
      "C:\\Users\\HP\\AppData\\Local\\Temp\\ipykernel_6744\\2604880072.py:6: FutureWarning: The default of observed=False is deprecated and will be changed to True in a future version of pandas. Pass observed=False to retain current behavior or observed=True to adopt the future default and silence this warning.\n",
      "  ct, bucket_mean, tips_q.groupby('q')['total_bill'].mean()\n"
     ]
    },
    {
     "data": {
      "text/plain": [
       "(day     Fri  Sat  Sun  Thur\n",
       " smoker                     \n",
       " No        4   45   57    45\n",
       " Yes      15   42   19    17,\n",
       " bill_bucket\n",
       " (0, 10]     1.838\n",
       " (10, 20]    2.455\n",
       " (20, 30]    3.608\n",
       " (30, 50]    4.408\n",
       " Name: tip, dtype: float64,\n",
       " q\n",
       " (0.0346, 0.129]    24.933\n",
       " (0.129, 0.155]     19.051\n",
       " (0.155, 0.191]     17.848\n",
       " (0.191, 0.71]      17.312\n",
       " Name: total_bill, dtype: float64)"
      ]
     },
     "execution_count": 216,
     "metadata": {},
     "output_type": "execute_result"
    }
   ],
   "source": [
    "ct = pd.crosstab(tips['smoker'], tips['day'])\n",
    "tips_bins = tips.copy()\n",
    "tips_bins['bill_bucket'] = pd.cut(tips_bins['total_bill'], bins=[0,10,20,30,50])\n",
    "bucket_mean = tips_bins.groupby('bill_bucket')['tip'].mean()\n",
    "tips_q = tips.assign(q = pd.qcut(tips['tip_pct'], 4, duplicates='drop'))\n",
    "ct, bucket_mean, tips_q.groupby('q')['total_bill'].mean()"
   ]
  },
  {
   "cell_type": "markdown",
   "id": "a1469a40",
   "metadata": {},
   "source": [
    "### ✍️ Analysis (Crosstab / Bucketing) — 3–5 sentences\n",
    "- What story does your crosstab tell in one sentence?\n",
    "- How did `cut` vs `qcut` change bucket sizes?\n",
    "- When is `where` preferable to boolean indexing?\n",
    "\n",
    "### 🔎 Quick checks\n",
    "- Show bucket edges and counts.\n",
    "- Verify monotonicity of bucket means if expected.\n",
    "\n",
    "### ➕ Extension (pick one)\n",
    "- Swap `qcut`/`cut` and compare stats.\n",
    "- Mask outliers and re-summarize.\n",
    "\n",
    "**Rubric (10 pts):** Correctness 3 • Evidence 2 • Clarity 2 • Reproducibility 2 • Exploration 1"
   ]
  },
  {
   "cell_type": "markdown",
   "id": "9b5d4d3c",
   "metadata": {},
   "source": [
    "## 17) Styling & Export (5m)"
   ]
  },
  {
   "cell_type": "code",
   "execution_count": 217,
   "id": "2af1b156",
   "metadata": {},
   "outputs": [
    {
     "name": "stderr",
     "output_type": "stream",
     "text": [
      "C:\\Users\\HP\\AppData\\Local\\Temp\\ipykernel_6744\\1253526996.py:1: FutureWarning: The default of observed=False is deprecated and will be changed to True in a future version of pandas. Pass observed=False to retain current behavior or observed=True to adopt the future default and silence this warning.\n",
      "  sty = (tips.groupby('day')[['total_bill','tip','tip_pct']].mean().round(2)\n"
     ]
    },
    {
     "data": {
      "text/plain": [
       "'Wrote tips_report.html'"
      ]
     },
     "execution_count": 217,
     "metadata": {},
     "output_type": "execute_result"
    }
   ],
   "source": [
    "sty = (tips.groupby('day')[['total_bill','tip','tip_pct']].mean().round(2)\n",
    "         .style.format({'tip_pct':'{:.2%}'}).background_gradient(axis=None))\n",
    "html = sty.to_html()\n",
    "open('tips_report.html','w',encoding='utf-8').write(html)\n",
    "'Wrote tips_report.html'"
   ]
  },
  {
   "cell_type": "markdown",
   "id": "dcb31100",
   "metadata": {},
   "source": [
    "### ✍️ Analysis (Styling & Export) — 3–5 sentences\n",
    "- What formatting improved readability most?\n",
    "- How would a stakeholder use this HTML report?\n",
    "- One caution about styled HTML vs raw data files.\n",
    "\n",
    "### 🔎 Quick checks\n",
    "- Open the HTML to spot issues (NA/odd values).\n",
    "- Confirm underlying numbers (pre-style) are correct.\n",
    "\n",
    "### ➕ Extension (pick one)\n",
    "- Add one more style and explain choice.\n",
    "- Export both styled HTML and CSV for same table.\n",
    "\n",
    "**Rubric (10 pts):** Correctness 3 • Evidence 2 • Clarity 2 • Reproducibility 2 • Exploration 1"
   ]
  },
  {
   "cell_type": "markdown",
   "id": "dd640403",
   "metadata": {},
   "source": [
    "# Capstone Mini-Project (Free Dataset): **Titanic Survival Analysis** (30–45m)"
   ]
  },
  {
   "cell_type": "markdown",
   "id": "dfcfd90c",
   "metadata": {},
   "source": [
    "**Source:** https://raw.githubusercontent.com/mwaskom/seaborn-data/master/titanic.csv"
   ]
  },
  {
   "cell_type": "code",
   "execution_count": 218,
   "id": "71b3ab51",
   "metadata": {},
   "outputs": [],
   "source": [
    "import pandas as pd, numpy as np, matplotlib.pyplot as plt"
   ]
  },
  {
   "cell_type": "code",
   "execution_count": 219,
   "id": "be90a383",
   "metadata": {},
   "outputs": [
    {
     "data": {
      "text/html": [
       "<div>\n",
       "<style scoped>\n",
       "    .dataframe tbody tr th:only-of-type {\n",
       "        vertical-align: middle;\n",
       "    }\n",
       "\n",
       "    .dataframe tbody tr th {\n",
       "        vertical-align: top;\n",
       "    }\n",
       "\n",
       "    .dataframe thead th {\n",
       "        text-align: right;\n",
       "    }\n",
       "</style>\n",
       "<table border=\"1\" class=\"dataframe\">\n",
       "  <thead>\n",
       "    <tr style=\"text-align: right;\">\n",
       "      <th></th>\n",
       "      <th>survived</th>\n",
       "      <th>pclass</th>\n",
       "      <th>sex</th>\n",
       "      <th>age</th>\n",
       "      <th>sibsp</th>\n",
       "      <th>parch</th>\n",
       "      <th>fare</th>\n",
       "      <th>embarked</th>\n",
       "      <th>class</th>\n",
       "      <th>who</th>\n",
       "      <th>adult_male</th>\n",
       "      <th>deck</th>\n",
       "      <th>embark_town</th>\n",
       "      <th>alive</th>\n",
       "      <th>alone</th>\n",
       "    </tr>\n",
       "  </thead>\n",
       "  <tbody>\n",
       "    <tr>\n",
       "      <th>0</th>\n",
       "      <td>0</td>\n",
       "      <td>3</td>\n",
       "      <td>male</td>\n",
       "      <td>22.0</td>\n",
       "      <td>1</td>\n",
       "      <td>0</td>\n",
       "      <td>7.250</td>\n",
       "      <td>S</td>\n",
       "      <td>Third</td>\n",
       "      <td>man</td>\n",
       "      <td>True</td>\n",
       "      <td>NaN</td>\n",
       "      <td>Southampton</td>\n",
       "      <td>no</td>\n",
       "      <td>False</td>\n",
       "    </tr>\n",
       "    <tr>\n",
       "      <th>1</th>\n",
       "      <td>1</td>\n",
       "      <td>1</td>\n",
       "      <td>female</td>\n",
       "      <td>38.0</td>\n",
       "      <td>1</td>\n",
       "      <td>0</td>\n",
       "      <td>71.283</td>\n",
       "      <td>C</td>\n",
       "      <td>First</td>\n",
       "      <td>woman</td>\n",
       "      <td>False</td>\n",
       "      <td>C</td>\n",
       "      <td>Cherbourg</td>\n",
       "      <td>yes</td>\n",
       "      <td>False</td>\n",
       "    </tr>\n",
       "    <tr>\n",
       "      <th>2</th>\n",
       "      <td>1</td>\n",
       "      <td>3</td>\n",
       "      <td>female</td>\n",
       "      <td>26.0</td>\n",
       "      <td>0</td>\n",
       "      <td>0</td>\n",
       "      <td>7.925</td>\n",
       "      <td>S</td>\n",
       "      <td>Third</td>\n",
       "      <td>woman</td>\n",
       "      <td>False</td>\n",
       "      <td>NaN</td>\n",
       "      <td>Southampton</td>\n",
       "      <td>yes</td>\n",
       "      <td>True</td>\n",
       "    </tr>\n",
       "    <tr>\n",
       "      <th>3</th>\n",
       "      <td>1</td>\n",
       "      <td>1</td>\n",
       "      <td>female</td>\n",
       "      <td>35.0</td>\n",
       "      <td>1</td>\n",
       "      <td>0</td>\n",
       "      <td>53.100</td>\n",
       "      <td>S</td>\n",
       "      <td>First</td>\n",
       "      <td>woman</td>\n",
       "      <td>False</td>\n",
       "      <td>C</td>\n",
       "      <td>Southampton</td>\n",
       "      <td>yes</td>\n",
       "      <td>False</td>\n",
       "    </tr>\n",
       "    <tr>\n",
       "      <th>4</th>\n",
       "      <td>0</td>\n",
       "      <td>3</td>\n",
       "      <td>male</td>\n",
       "      <td>35.0</td>\n",
       "      <td>0</td>\n",
       "      <td>0</td>\n",
       "      <td>8.050</td>\n",
       "      <td>S</td>\n",
       "      <td>Third</td>\n",
       "      <td>man</td>\n",
       "      <td>True</td>\n",
       "      <td>NaN</td>\n",
       "      <td>Southampton</td>\n",
       "      <td>no</td>\n",
       "      <td>True</td>\n",
       "    </tr>\n",
       "  </tbody>\n",
       "</table>\n",
       "</div>"
      ],
      "text/plain": [
       "   survived  pclass     sex   age  sibsp  parch    fare embarked  class  \\\n",
       "0         0       3    male  22.0      1      0   7.250        S  Third   \n",
       "1         1       1  female  38.0      1      0  71.283        C  First   \n",
       "2         1       3  female  26.0      0      0   7.925        S  Third   \n",
       "3         1       1  female  35.0      1      0  53.100        S  First   \n",
       "4         0       3    male  35.0      0      0   8.050        S  Third   \n",
       "\n",
       "     who  adult_male deck  embark_town alive  alone  \n",
       "0    man        True  NaN  Southampton    no  False  \n",
       "1  woman       False    C    Cherbourg   yes  False  \n",
       "2  woman       False  NaN  Southampton   yes   True  \n",
       "3  woman       False    C  Southampton   yes  False  \n",
       "4    man        True  NaN  Southampton    no   True  "
      ]
     },
     "execution_count": 219,
     "metadata": {},
     "output_type": "execute_result"
    }
   ],
   "source": [
    "tit_url = \"https://raw.githubusercontent.com/mwaskom/seaborn-data/master/titanic.csv\"\n",
    "titanic = None\n",
    "for attempt in [\"local\", \"seaborn\", \"remote\"]:\n",
    "    try:\n",
    "        if attempt == \"local\":\n",
    "            titanic = pd.read_csv(\"titanic.csv\")\n",
    "        elif attempt == \"seaborn\":\n",
    "            import importlib\n",
    "            sns = importlib.import_module(\"seaborn\")\n",
    "            titanic = sns.load_dataset(\"titanic\")\n",
    "        else:\n",
    "            titanic = pd.read_csv(tit_url)\n",
    "        break\n",
    "    except Exception:\n",
    "        titanic = None\n",
    "\n",
    "if titanic is None:\n",
    "    raise RuntimeError(\"Could not load titanic dataset via local/seaborn/remote.\")\n",
    "\n",
    "titanic.head()"
   ]
  },
  {
   "cell_type": "code",
   "execution_count": 220,
   "id": "77841ef9",
   "metadata": {},
   "outputs": [
    {
     "name": "stdout",
     "output_type": "stream",
     "text": [
      "Shape: (891, 15)\n",
      "\n",
      "Info:\n",
      "<class 'pandas.core.frame.DataFrame'>\n",
      "RangeIndex: 891 entries, 0 to 890\n",
      "Data columns (total 15 columns):\n",
      " #   Column       Non-Null Count  Dtype   \n",
      "---  ------       --------------  -----   \n",
      " 0   survived     891 non-null    int64   \n",
      " 1   pclass       891 non-null    int64   \n",
      " 2   sex          891 non-null    object  \n",
      " 3   age          714 non-null    float64 \n",
      " 4   sibsp        891 non-null    int64   \n",
      " 5   parch        891 non-null    int64   \n",
      " 6   fare         891 non-null    float64 \n",
      " 7   embarked     889 non-null    object  \n",
      " 8   class        891 non-null    category\n",
      " 9   who          891 non-null    object  \n",
      " 10  adult_male   891 non-null    bool    \n",
      " 11  deck         203 non-null    category\n",
      " 12  embark_town  889 non-null    object  \n",
      " 13  alive        891 non-null    object  \n",
      " 14  alone        891 non-null    bool    \n",
      "dtypes: bool(2), category(2), float64(2), int64(4), object(5)\n",
      "memory usage: 80.7+ KB\n",
      "None\n",
      "\n",
      "Missing values per column:\n",
      "deck           688\n",
      "age            177\n",
      "embarked         2\n",
      "embark_town      2\n",
      "survived         0\n",
      "              ... \n",
      "sibsp            0\n",
      "parch            0\n",
      "fare             0\n",
      "class            0\n",
      "who              0\n",
      "Length: 12, dtype: int64\n"
     ]
    }
   ],
   "source": [
    "print(\"Shape:\", titanic.shape)\n",
    "print(\"\\nInfo:\"); print(titanic.info())\n",
    "print(\"\\nMissing values per column:\"); print(titanic.isna().sum().sort_values(ascending=False).head(12))"
   ]
  },
  {
   "cell_type": "markdown",
   "id": "c2a6f33e",
   "metadata": {},
   "source": [
    "## A) Data Cleaning & Feature Engineering"
   ]
  },
  {
   "cell_type": "code",
   "execution_count": 221,
   "id": "756a7728",
   "metadata": {},
   "outputs": [
    {
     "name": "stderr",
     "output_type": "stream",
     "text": [
      "C:\\Users\\HP\\AppData\\Local\\Temp\\ipykernel_6744\\587888411.py:4: FutureWarning: The default of observed=False is deprecated and will be changed to True in a future version of pandas. Pass observed=False to retain current behavior or observed=True to adopt the future default and silence this warning.\n",
      "  age_med = df.groupby(['sex','class'])['age'].transform('median')\n"
     ]
    },
    {
     "data": {
      "text/html": [
       "<div>\n",
       "<style scoped>\n",
       "    .dataframe tbody tr th:only-of-type {\n",
       "        vertical-align: middle;\n",
       "    }\n",
       "\n",
       "    .dataframe tbody tr th {\n",
       "        vertical-align: top;\n",
       "    }\n",
       "\n",
       "    .dataframe thead th {\n",
       "        text-align: right;\n",
       "    }\n",
       "</style>\n",
       "<table border=\"1\" class=\"dataframe\">\n",
       "  <thead>\n",
       "    <tr style=\"text-align: right;\">\n",
       "      <th></th>\n",
       "      <th>survived</th>\n",
       "      <th>pclass</th>\n",
       "      <th>sex</th>\n",
       "      <th>age</th>\n",
       "      <th>sibsp</th>\n",
       "      <th>parch</th>\n",
       "      <th>fare</th>\n",
       "      <th>embarked</th>\n",
       "      <th>class</th>\n",
       "      <th>who</th>\n",
       "      <th>adult_male</th>\n",
       "      <th>deck</th>\n",
       "      <th>embark_town</th>\n",
       "      <th>alive</th>\n",
       "      <th>alone</th>\n",
       "      <th>family_size</th>\n",
       "      <th>fare_pp</th>\n",
       "      <th>age_group</th>\n",
       "    </tr>\n",
       "  </thead>\n",
       "  <tbody>\n",
       "    <tr>\n",
       "      <th>0</th>\n",
       "      <td>0</td>\n",
       "      <td>3</td>\n",
       "      <td>male</td>\n",
       "      <td>22.0</td>\n",
       "      <td>1</td>\n",
       "      <td>0</td>\n",
       "      <td>7.250</td>\n",
       "      <td>S</td>\n",
       "      <td>Third</td>\n",
       "      <td>man</td>\n",
       "      <td>True</td>\n",
       "      <td>Unknown</td>\n",
       "      <td>Southampton</td>\n",
       "      <td>no</td>\n",
       "      <td>False</td>\n",
       "      <td>2</td>\n",
       "      <td>3.625</td>\n",
       "      <td>YoungAdult</td>\n",
       "    </tr>\n",
       "    <tr>\n",
       "      <th>1</th>\n",
       "      <td>1</td>\n",
       "      <td>1</td>\n",
       "      <td>female</td>\n",
       "      <td>38.0</td>\n",
       "      <td>1</td>\n",
       "      <td>0</td>\n",
       "      <td>71.283</td>\n",
       "      <td>C</td>\n",
       "      <td>First</td>\n",
       "      <td>woman</td>\n",
       "      <td>False</td>\n",
       "      <td>C</td>\n",
       "      <td>Cherbourg</td>\n",
       "      <td>yes</td>\n",
       "      <td>False</td>\n",
       "      <td>2</td>\n",
       "      <td>35.642</td>\n",
       "      <td>MidAge</td>\n",
       "    </tr>\n",
       "    <tr>\n",
       "      <th>2</th>\n",
       "      <td>1</td>\n",
       "      <td>3</td>\n",
       "      <td>female</td>\n",
       "      <td>26.0</td>\n",
       "      <td>0</td>\n",
       "      <td>0</td>\n",
       "      <td>7.925</td>\n",
       "      <td>S</td>\n",
       "      <td>Third</td>\n",
       "      <td>woman</td>\n",
       "      <td>False</td>\n",
       "      <td>Unknown</td>\n",
       "      <td>Southampton</td>\n",
       "      <td>yes</td>\n",
       "      <td>True</td>\n",
       "      <td>1</td>\n",
       "      <td>7.925</td>\n",
       "      <td>YoungAdult</td>\n",
       "    </tr>\n",
       "    <tr>\n",
       "      <th>3</th>\n",
       "      <td>1</td>\n",
       "      <td>1</td>\n",
       "      <td>female</td>\n",
       "      <td>35.0</td>\n",
       "      <td>1</td>\n",
       "      <td>0</td>\n",
       "      <td>53.100</td>\n",
       "      <td>S</td>\n",
       "      <td>First</td>\n",
       "      <td>woman</td>\n",
       "      <td>False</td>\n",
       "      <td>C</td>\n",
       "      <td>Southampton</td>\n",
       "      <td>yes</td>\n",
       "      <td>False</td>\n",
       "      <td>2</td>\n",
       "      <td>26.550</td>\n",
       "      <td>YoungAdult</td>\n",
       "    </tr>\n",
       "    <tr>\n",
       "      <th>4</th>\n",
       "      <td>0</td>\n",
       "      <td>3</td>\n",
       "      <td>male</td>\n",
       "      <td>35.0</td>\n",
       "      <td>0</td>\n",
       "      <td>0</td>\n",
       "      <td>8.050</td>\n",
       "      <td>S</td>\n",
       "      <td>Third</td>\n",
       "      <td>man</td>\n",
       "      <td>True</td>\n",
       "      <td>Unknown</td>\n",
       "      <td>Southampton</td>\n",
       "      <td>no</td>\n",
       "      <td>True</td>\n",
       "      <td>1</td>\n",
       "      <td>8.050</td>\n",
       "      <td>YoungAdult</td>\n",
       "    </tr>\n",
       "  </tbody>\n",
       "</table>\n",
       "</div>"
      ],
      "text/plain": [
       "   survived  pclass     sex   age  sibsp  parch    fare embarked  class  \\\n",
       "0         0       3    male  22.0      1      0   7.250        S  Third   \n",
       "1         1       1  female  38.0      1      0  71.283        C  First   \n",
       "2         1       3  female  26.0      0      0   7.925        S  Third   \n",
       "3         1       1  female  35.0      1      0  53.100        S  First   \n",
       "4         0       3    male  35.0      0      0   8.050        S  Third   \n",
       "\n",
       "     who adult_male     deck  embark_town alive  alone  family_size  fare_pp  \\\n",
       "0    man       True  Unknown  Southampton    no  False            2    3.625   \n",
       "1  woman      False        C    Cherbourg   yes  False            2   35.642   \n",
       "2  woman      False  Unknown  Southampton   yes   True            1    7.925   \n",
       "3  woman      False        C  Southampton   yes  False            2   26.550   \n",
       "4    man       True  Unknown  Southampton    no   True            1    8.050   \n",
       "\n",
       "    age_group  \n",
       "0  YoungAdult  \n",
       "1      MidAge  \n",
       "2  YoungAdult  \n",
       "3  YoungAdult  \n",
       "4  YoungAdult  "
      ]
     },
     "execution_count": 221,
     "metadata": {},
     "output_type": "execute_result"
    }
   ],
   "source": [
    "df = titanic.copy()\n",
    "for col in ['sex','class','embarked','embark_town','alive','who','deck','alone','adult_male']:\n",
    "    if col in df.columns: df[col] = df[col].astype('category')\n",
    "age_med = df.groupby(['sex','class'])['age'].transform('median')\n",
    "df['age'] = df['age'].fillna(age_med)\n",
    "if df['embark_town'].isna().any():\n",
    "    mode_town = df['embark_town'].mode(dropna=True)\n",
    "    if not mode_town.empty: df['embark_town'] = df['embark_town'].fillna(mode_town.iloc[0])\n",
    "df['family_size'] = df['sibsp'].fillna(0) + df['parch'].fillna(0) + 1\n",
    "df['fare_pp'] = df['fare'] / df['family_size']\n",
    "df['deck'] = df['deck'].cat.add_categories(['Unknown']).fillna('Unknown')\n",
    "bins = [0,12,18,35,50,80]; labels = ['Child','Teen','YoungAdult','MidAge','Senior']\n",
    "df['age_group'] = pd.cut(df['age'], bins=bins, labels=labels, include_lowest=True)\n",
    "df.head()"
   ]
  },
  {
   "cell_type": "markdown",
   "id": "f0c06db9",
   "metadata": {},
   "source": [
    "### ✅ Exercise A\n",
    "Check NaNs in `age`/`embark_town`, top `family_size`, % with `fare_pp>20`."
   ]
  },
  {
   "cell_type": "markdown",
   "id": "aecf4e62",
   "metadata": {},
   "source": [
    "**Hints:**\n",
    "- Concept: impute & feature engineer.\n",
    "- API: `groupby().transform('median')`, `.mode()`, `.cut`.\n"
   ]
  },
  {
   "cell_type": "code",
   "execution_count": 222,
   "id": "3de92651",
   "metadata": {},
   "outputs": [
    {
     "name": "stdout",
     "output_type": "stream",
     "text": [
      "NaNs in age/embark_town:\n",
      " age            0\n",
      "embark_town    0\n",
      "dtype: int64\n",
      "\n",
      "Top 5 by family_size:\n"
     ]
    },
    {
     "data": {
      "text/html": [
       "<div>\n",
       "<style scoped>\n",
       "    .dataframe tbody tr th:only-of-type {\n",
       "        vertical-align: middle;\n",
       "    }\n",
       "\n",
       "    .dataframe tbody tr th {\n",
       "        vertical-align: top;\n",
       "    }\n",
       "\n",
       "    .dataframe thead th {\n",
       "        text-align: right;\n",
       "    }\n",
       "</style>\n",
       "<table border=\"1\" class=\"dataframe\">\n",
       "  <thead>\n",
       "    <tr style=\"text-align: right;\">\n",
       "      <th></th>\n",
       "      <th>survived</th>\n",
       "      <th>sex</th>\n",
       "      <th>class</th>\n",
       "      <th>family_size</th>\n",
       "      <th>fare_pp</th>\n",
       "    </tr>\n",
       "  </thead>\n",
       "  <tbody>\n",
       "    <tr>\n",
       "      <th>180</th>\n",
       "      <td>0</td>\n",
       "      <td>female</td>\n",
       "      <td>Third</td>\n",
       "      <td>11</td>\n",
       "      <td>6.323</td>\n",
       "    </tr>\n",
       "    <tr>\n",
       "      <th>846</th>\n",
       "      <td>0</td>\n",
       "      <td>male</td>\n",
       "      <td>Third</td>\n",
       "      <td>11</td>\n",
       "      <td>6.323</td>\n",
       "    </tr>\n",
       "    <tr>\n",
       "      <th>792</th>\n",
       "      <td>0</td>\n",
       "      <td>female</td>\n",
       "      <td>Third</td>\n",
       "      <td>11</td>\n",
       "      <td>6.323</td>\n",
       "    </tr>\n",
       "    <tr>\n",
       "      <th>201</th>\n",
       "      <td>0</td>\n",
       "      <td>male</td>\n",
       "      <td>Third</td>\n",
       "      <td>11</td>\n",
       "      <td>6.323</td>\n",
       "    </tr>\n",
       "    <tr>\n",
       "      <th>159</th>\n",
       "      <td>0</td>\n",
       "      <td>male</td>\n",
       "      <td>Third</td>\n",
       "      <td>11</td>\n",
       "      <td>6.323</td>\n",
       "    </tr>\n",
       "  </tbody>\n",
       "</table>\n",
       "</div>"
      ],
      "text/plain": [
       "     survived     sex  class  family_size  fare_pp\n",
       "180         0  female  Third           11    6.323\n",
       "846         0    male  Third           11    6.323\n",
       "792         0  female  Third           11    6.323\n",
       "201         0    male  Third           11    6.323\n",
       "159         0    male  Third           11    6.323"
      ]
     },
     "metadata": {},
     "output_type": "display_data"
    },
    {
     "name": "stdout",
     "output_type": "stream",
     "text": [
      "\n",
      "Share with fare_pp > 20: 0.254\n"
     ]
    }
   ],
   "source": [
    "\n",
    "nan_check = df[['age','embark_town']].isna().sum()\n",
    "print(\"NaNs in age/embark_town:\\n\", nan_check)\n",
    "\n",
    "top_families = df.sort_values('family_size', ascending=False)[['survived','sex','class','family_size','fare_pp']].head(5)\n",
    "print(\"\\nTop 5 by family_size:\")\n",
    "display(top_families)\n",
    "\n",
    "pct_farepp_gt20 = (df['fare_pp'] > 20).mean()\n",
    "print(\"\\nShare with fare_pp > 20:\", round(float(pct_farepp_gt20), 3))"
   ]
  },
  {
   "cell_type": "markdown",
   "id": "8a47261f",
   "metadata": {},
   "source": [
    "## B) Survival Patterns"
   ]
  },
  {
   "cell_type": "code",
   "execution_count": 223,
   "id": "a246303f",
   "metadata": {},
   "outputs": [
    {
     "name": "stdout",
     "output_type": "stream",
     "text": [
      "Overall survival rate: 0.384\n"
     ]
    }
   ],
   "source": [
    "overall_survival = df['survived'].mean(); print('Overall survival rate:', round(overall_survival,3))"
   ]
  },
  {
   "cell_type": "code",
   "execution_count": 224,
   "id": "509a5166",
   "metadata": {},
   "outputs": [
    {
     "name": "stderr",
     "output_type": "stream",
     "text": [
      "C:\\Users\\HP\\AppData\\Local\\Temp\\ipykernel_6744\\3625588530.py:1: FutureWarning: The default of observed=False is deprecated and will be changed to True in a future version of pandas. Pass observed=False to retain current behavior or observed=True to adopt the future default and silence this warning.\n",
      "  surv_by_class = df.groupby('class')['survived'].mean().reindex(['First','Second','Third'])\n"
     ]
    },
    {
     "data": {
      "image/png": "[encoded data removed]",
      "text/plain": [
       "<Figure size 640x480 with 1 Axes>"
      ]
     },
     "metadata": {},
     "output_type": "display_data"
    }
   ],
   "source": [
    "surv_by_class = df.groupby('class')['survived'].mean().reindex(['First','Second','Third'])\n",
    "plt.figure(); plt.bar(surv_by_class.index.astype(str), surv_by_class.values)\n",
    "plt.title('Survival Rate by Class'); plt.xlabel('class'); plt.ylabel('survival rate'); plt.show()"
   ]
  },
  {
   "cell_type": "code",
   "execution_count": 225,
   "id": "4b53c3e0",
   "metadata": {},
   "outputs": [
    {
     "name": "stderr",
     "output_type": "stream",
     "text": [
      "C:\\Users\\HP\\AppData\\Local\\Temp\\ipykernel_6744\\271380004.py:1: FutureWarning: The default value of observed=False is deprecated and will change to observed=True in a future version of pandas. Specify observed=False to silence this warning and retain the current behavior\n",
      "  piv = df.pivot_table(index='sex', columns='class', values='survived', aggfunc='mean')\n"
     ]
    },
    {
     "data": {
      "image/png": "[encoded data removed]",
      "text/plain": [
       "<Figure size 640x480 with 2 Axes>"
      ]
     },
     "metadata": {},
     "output_type": "display_data"
    },
    {
     "data": {
      "text/html": [
       "<div>\n",
       "<style scoped>\n",
       "    .dataframe tbody tr th:only-of-type {\n",
       "        vertical-align: middle;\n",
       "    }\n",
       "\n",
       "    .dataframe tbody tr th {\n",
       "        vertical-align: top;\n",
       "    }\n",
       "\n",
       "    .dataframe thead th {\n",
       "        text-align: right;\n",
       "    }\n",
       "</style>\n",
       "<table border=\"1\" class=\"dataframe\">\n",
       "  <thead>\n",
       "    <tr style=\"text-align: right;\">\n",
       "      <th>class</th>\n",
       "      <th>First</th>\n",
       "      <th>Second</th>\n",
       "      <th>Third</th>\n",
       "    </tr>\n",
       "    <tr>\n",
       "      <th>sex</th>\n",
       "      <th></th>\n",
       "      <th></th>\n",
       "      <th></th>\n",
       "    </tr>\n",
       "  </thead>\n",
       "  <tbody>\n",
       "    <tr>\n",
       "      <th>female</th>\n",
       "      <td>0.968</td>\n",
       "      <td>0.921</td>\n",
       "      <td>0.500</td>\n",
       "    </tr>\n",
       "    <tr>\n",
       "      <th>male</th>\n",
       "      <td>0.369</td>\n",
       "      <td>0.157</td>\n",
       "      <td>0.135</td>\n",
       "    </tr>\n",
       "  </tbody>\n",
       "</table>\n",
       "</div>"
      ],
      "text/plain": [
       "class   First  Second  Third\n",
       "sex                         \n",
       "female  0.968   0.921  0.500\n",
       "male    0.369   0.157  0.135"
      ]
     },
     "execution_count": 225,
     "metadata": {},
     "output_type": "execute_result"
    }
   ],
   "source": [
    "piv = df.pivot_table(index='sex', columns='class', values='survived', aggfunc='mean')\n",
    "plt.figure(); plt.imshow(piv.values, aspect='auto')\n",
    "plt.title('Survival Rate by Sex × Class'); plt.xlabel('class'); plt.ylabel('sex')\n",
    "plt.xticks(range(len(piv.columns)), piv.columns.astype(str))\n",
    "plt.yticks(range(len(piv.index)), piv.index.astype(str))\n",
    "plt.colorbar(); plt.show(); piv"
   ]
  },
  {
   "cell_type": "markdown",
   "id": "dfe5781f",
   "metadata": {},
   "source": [
    "### ✅ Exercise B\n",
    "1) Histogram of age. 2) Boxplot fare by class. 3) Bar of survival by age_group."
   ]
  },
  {
   "cell_type": "markdown",
   "id": "b62fa400",
   "metadata": {},
   "source": [
    "**Hints:**\n",
    "- Concept: univariate + grouped visuals.\n",
    "- API: `plt.hist`, `plt.boxplot`, `groupby().mean` + `plt.bar`.\n"
   ]
  },
  {
   "cell_type": "code",
   "execution_count": 226,
   "id": "a7bd16b0",
   "metadata": {},
   "outputs": [
    {
     "data": {
      "image/png": "[encoded data removed]",
      "text/plain": [
       "<Figure size 640x480 with 1 Axes>"
      ]
     },
     "metadata": {},
     "output_type": "display_data"
    },
    {
     "data": {
      "image/png": "[encoded data removed]",
      "text/plain": [
       "<Figure size 640x480 with 1 Axes>"
      ]
     },
     "metadata": {},
     "output_type": "display_data"
    },
    {
     "data": {
      "image/png": "[encoded data removed]",
      "text/plain": [
       "<Figure size 640x480 with 1 Axes>"
      ]
     },
     "metadata": {},
     "output_type": "display_data"
    }
   ],
   "source": [
    "\n",
    "plt.figure()\n",
    "plt.hist(df['age'].dropna().values, bins=20)\n",
    "plt.title('Age Distribution')\n",
    "plt.xlabel('age'); plt.ylabel('count')\n",
    "plt.show()\n",
    "\n",
    "\n",
    "classes = list(df['class'].cat.categories) if 'class' in df and hasattr(df['class'], 'cat') else sorted(df['class'].dropna().unique())\n",
    "data = [df.loc[df['class']==c, 'fare'].dropna().values for c in classes]\n",
    "plt.figure()\n",
    "plt.boxplot(data, labels=classes, showfliers=False)\n",
    "plt.title('Fare by Passenger Class')\n",
    "plt.xlabel('class'); plt.ylabel('fare')\n",
    "plt.show()\n",
    "\n",
    "surv_by_agegrp = df.groupby('age_group', observed=True)['survived'].mean().reindex(df['age_group'].cat.categories if hasattr(df['age_group'], 'cat') else None)\n",
    "x = [str(x) for x in surv_by_agegrp.index]\n",
    "y = surv_by_agegrp.values\n",
    "plt.figure()\n",
    "plt.bar(x, y)\n",
    "plt.title('Survival Rate by Age Group')\n",
    "plt.xlabel('age_group'); plt.ylabel('survival rate')\n",
    "plt.show()"
   ]
  },
  {
   "cell_type": "markdown",
   "id": "8049764b",
   "metadata": {},
   "source": [
    "## C) Subgroup Discovery"
   ]
  },
  {
   "cell_type": "code",
   "execution_count": 227,
   "id": "8a23dc5e",
   "metadata": {},
   "outputs": [
    {
     "name": "stderr",
     "output_type": "stream",
     "text": [
      "C:\\Users\\HP\\AppData\\Local\\Temp\\ipykernel_6744\\1601229680.py:1: FutureWarning: The default of observed=False is deprecated and will be changed to True in a future version of pandas. Pass observed=False to retain current behavior or observed=True to adopt the future default and silence this warning.\n",
      "  grp = (df.groupby(['sex','class','embark_town'])\n"
     ]
    },
    {
     "data": {
      "text/html": [
       "<div>\n",
       "<style scoped>\n",
       "    .dataframe tbody tr th:only-of-type {\n",
       "        vertical-align: middle;\n",
       "    }\n",
       "\n",
       "    .dataframe tbody tr th {\n",
       "        vertical-align: top;\n",
       "    }\n",
       "\n",
       "    .dataframe thead th {\n",
       "        text-align: right;\n",
       "    }\n",
       "</style>\n",
       "<table border=\"1\" class=\"dataframe\">\n",
       "  <thead>\n",
       "    <tr style=\"text-align: right;\">\n",
       "      <th></th>\n",
       "      <th></th>\n",
       "      <th></th>\n",
       "      <th>n</th>\n",
       "      <th>surv_rate</th>\n",
       "    </tr>\n",
       "    <tr>\n",
       "      <th>sex</th>\n",
       "      <th>class</th>\n",
       "      <th>embark_town</th>\n",
       "      <th></th>\n",
       "      <th></th>\n",
       "    </tr>\n",
       "  </thead>\n",
       "  <tbody>\n",
       "    <tr>\n",
       "      <th rowspan=\"4\" valign=\"top\">female</th>\n",
       "      <th rowspan=\"2\" valign=\"top\">First</th>\n",
       "      <th>Cherbourg</th>\n",
       "      <td>43</td>\n",
       "      <td>0.977</td>\n",
       "    </tr>\n",
       "    <tr>\n",
       "      <th>Southampton</th>\n",
       "      <td>50</td>\n",
       "      <td>0.960</td>\n",
       "    </tr>\n",
       "    <tr>\n",
       "      <th>Second</th>\n",
       "      <th>Southampton</th>\n",
       "      <td>67</td>\n",
       "      <td>0.910</td>\n",
       "    </tr>\n",
       "    <tr>\n",
       "      <th>Third</th>\n",
       "      <th>Queenstown</th>\n",
       "      <td>33</td>\n",
       "      <td>0.727</td>\n",
       "    </tr>\n",
       "    <tr>\n",
       "      <th>male</th>\n",
       "      <th>First</th>\n",
       "      <th>Cherbourg</th>\n",
       "      <td>42</td>\n",
       "      <td>0.405</td>\n",
       "    </tr>\n",
       "    <tr>\n",
       "      <th>female</th>\n",
       "      <th>Third</th>\n",
       "      <th>Southampton</th>\n",
       "      <td>88</td>\n",
       "      <td>0.375</td>\n",
       "    </tr>\n",
       "    <tr>\n",
       "      <th rowspan=\"4\" valign=\"top\">male</th>\n",
       "      <th>First</th>\n",
       "      <th>Southampton</th>\n",
       "      <td>79</td>\n",
       "      <td>0.354</td>\n",
       "    </tr>\n",
       "    <tr>\n",
       "      <th>Third</th>\n",
       "      <th>Cherbourg</th>\n",
       "      <td>43</td>\n",
       "      <td>0.233</td>\n",
       "    </tr>\n",
       "    <tr>\n",
       "      <th>Second</th>\n",
       "      <th>Southampton</th>\n",
       "      <td>97</td>\n",
       "      <td>0.155</td>\n",
       "    </tr>\n",
       "    <tr>\n",
       "      <th>Third</th>\n",
       "      <th>Southampton</th>\n",
       "      <td>265</td>\n",
       "      <td>0.128</td>\n",
       "    </tr>\n",
       "  </tbody>\n",
       "</table>\n",
       "</div>"
      ],
      "text/plain": [
       "                             n  surv_rate\n",
       "sex    class  embark_town                \n",
       "female First  Cherbourg     43      0.977\n",
       "              Southampton   50      0.960\n",
       "       Second Southampton   67      0.910\n",
       "       Third  Queenstown    33      0.727\n",
       "male   First  Cherbourg     42      0.405\n",
       "female Third  Southampton   88      0.375\n",
       "male   First  Southampton   79      0.354\n",
       "       Third  Cherbourg     43      0.233\n",
       "       Second Southampton   97      0.155\n",
       "       Third  Southampton  265      0.128"
      ]
     },
     "execution_count": 227,
     "metadata": {},
     "output_type": "execute_result"
    }
   ],
   "source": [
    "grp = (df.groupby(['sex','class','embark_town'])\n",
    "         .agg(n=('survived','size'), surv_rate=('survived','mean'))\n",
    "         .query('n >= 25')\n",
    "         .sort_values('surv_rate', ascending=False))\n",
    "grp.head(10)"
   ]
  },
  {
   "cell_type": "markdown",
   "id": "6284667e",
   "metadata": {},
   "source": [
    "### ✅ Exercise C\n",
    "Families with `family_size≥4`: survival by `sex` & `class` (n + rate). Bucket `fare_pp` and compute survival per bucket."
   ]
  },
  {
   "cell_type": "markdown",
   "id": "7e1e9bd7",
   "metadata": {},
   "source": [
    "**Hints:**\n",
    "- Concept: subgroup analysis with thresholds.\n",
    "- API: `groupby().agg`, `query`, `cut`.\n"
   ]
  },
  {
   "cell_type": "code",
   "execution_count": 228,
   "id": "5736b640",
   "metadata": {},
   "outputs": [
    {
     "name": "stdout",
     "output_type": "stream",
     "text": [
      "Survival by Sex × Class for family_size ≥ 4:\n"
     ]
    },
    {
     "data": {
      "text/html": [
       "<div>\n",
       "<style scoped>\n",
       "    .dataframe tbody tr th:only-of-type {\n",
       "        vertical-align: middle;\n",
       "    }\n",
       "\n",
       "    .dataframe tbody tr th {\n",
       "        vertical-align: top;\n",
       "    }\n",
       "\n",
       "    .dataframe thead th {\n",
       "        text-align: right;\n",
       "    }\n",
       "</style>\n",
       "<table border=\"1\" class=\"dataframe\">\n",
       "  <thead>\n",
       "    <tr style=\"text-align: right;\">\n",
       "      <th></th>\n",
       "      <th>sex</th>\n",
       "      <th>class</th>\n",
       "      <th>n</th>\n",
       "      <th>surv_rate</th>\n",
       "    </tr>\n",
       "  </thead>\n",
       "  <tbody>\n",
       "    <tr>\n",
       "      <th>0</th>\n",
       "      <td>female</td>\n",
       "      <td>First</td>\n",
       "      <td>8</td>\n",
       "      <td>0.750</td>\n",
       "    </tr>\n",
       "    <tr>\n",
       "      <th>1</th>\n",
       "      <td>female</td>\n",
       "      <td>Second</td>\n",
       "      <td>11</td>\n",
       "      <td>1.000</td>\n",
       "    </tr>\n",
       "    <tr>\n",
       "      <th>2</th>\n",
       "      <td>female</td>\n",
       "      <td>Third</td>\n",
       "      <td>33</td>\n",
       "      <td>0.242</td>\n",
       "    </tr>\n",
       "    <tr>\n",
       "      <th>3</th>\n",
       "      <td>male</td>\n",
       "      <td>First</td>\n",
       "      <td>5</td>\n",
       "      <td>0.600</td>\n",
       "    </tr>\n",
       "    <tr>\n",
       "      <th>4</th>\n",
       "      <td>male</td>\n",
       "      <td>Second</td>\n",
       "      <td>4</td>\n",
       "      <td>0.250</td>\n",
       "    </tr>\n",
       "    <tr>\n",
       "      <th>5</th>\n",
       "      <td>male</td>\n",
       "      <td>Third</td>\n",
       "      <td>30</td>\n",
       "      <td>0.067</td>\n",
       "    </tr>\n",
       "  </tbody>\n",
       "</table>\n",
       "</div>"
      ],
      "text/plain": [
       "      sex   class   n  surv_rate\n",
       "0  female   First   8      0.750\n",
       "1  female  Second  11      1.000\n",
       "2  female   Third  33      0.242\n",
       "3    male   First   5      0.600\n",
       "4    male  Second   4      0.250\n",
       "5    male   Third  30      0.067"
      ]
     },
     "metadata": {},
     "output_type": "display_data"
    },
    {
     "name": "stdout",
     "output_type": "stream",
     "text": [
      "\n",
      "Survival rate by fare_pp bucket:\n"
     ]
    },
    {
     "data": {
      "text/html": [
       "<div>\n",
       "<style scoped>\n",
       "    .dataframe tbody tr th:only-of-type {\n",
       "        vertical-align: middle;\n",
       "    }\n",
       "\n",
       "    .dataframe tbody tr th {\n",
       "        vertical-align: top;\n",
       "    }\n",
       "\n",
       "    .dataframe thead th {\n",
       "        text-align: right;\n",
       "    }\n",
       "</style>\n",
       "<table border=\"1\" class=\"dataframe\">\n",
       "  <thead>\n",
       "    <tr style=\"text-align: right;\">\n",
       "      <th></th>\n",
       "      <th>fare_bucket</th>\n",
       "      <th>survival_rate</th>\n",
       "    </tr>\n",
       "  </thead>\n",
       "  <tbody>\n",
       "    <tr>\n",
       "      <th>0</th>\n",
       "      <td>≤10</td>\n",
       "      <td>0.271</td>\n",
       "    </tr>\n",
       "    <tr>\n",
       "      <th>1</th>\n",
       "      <td>10–20</td>\n",
       "      <td>0.431</td>\n",
       "    </tr>\n",
       "    <tr>\n",
       "      <th>2</th>\n",
       "      <td>20–50</td>\n",
       "      <td>0.556</td>\n",
       "    </tr>\n",
       "    <tr>\n",
       "      <th>3</th>\n",
       "      <td>50–100</td>\n",
       "      <td>0.682</td>\n",
       "    </tr>\n",
       "    <tr>\n",
       "      <th>4</th>\n",
       "      <td>100–300</td>\n",
       "      <td>0.800</td>\n",
       "    </tr>\n",
       "    <tr>\n",
       "      <th>5</th>\n",
       "      <td>&gt;300</td>\n",
       "      <td>1.000</td>\n",
       "    </tr>\n",
       "  </tbody>\n",
       "</table>\n",
       "</div>"
      ],
      "text/plain": [
       "  fare_bucket  survival_rate\n",
       "0         ≤10          0.271\n",
       "1       10–20          0.431\n",
       "2       20–50          0.556\n",
       "3      50–100          0.682\n",
       "4     100–300          0.800\n",
       "5        >300          1.000"
      ]
     },
     "metadata": {},
     "output_type": "display_data"
    }
   ],
   "source": [
    "\n",
    "big = df.query('family_size >= 4')\n",
    "surv_summary = (big.groupby(['sex','class'], observed=True)['survived']\n",
    "                  .agg(n='size', surv_rate='mean').reset_index())\n",
    "print(\"Survival by Sex × Class for family_size ≥ 4:\")\n",
    "display(surv_summary.sort_values(['sex','class']))\n",
    "\n",
    "bins = [-1, 10, 20, 50, 100, 300, float('inf')]\n",
    "labels = ['≤10', '10–20', '20–50', '50–100', '100–300', '>300']\n",
    "df['fare_bucket'] = pd.cut(df['fare_pp'], bins=bins, labels=labels, include_lowest=True)\n",
    "fare_bucket_surv = (df.groupby('fare_bucket', observed=True)['survived']\n",
    "                      .mean().reset_index(name='survival_rate'))\n",
    "print(\"\\nSurvival rate by fare_pp bucket:\")\n",
    "display(fare_bucket_surv)"
   ]
  },
  {
   "cell_type": "markdown",
   "id": "dd183c8f",
   "metadata": {},
   "source": [
    "## D) Deliverables"
   ]
  },
  {
   "cell_type": "code",
   "execution_count": 229,
   "id": "9370fbd6",
   "metadata": {},
   "outputs": [
    {
     "data": {
      "text/plain": [
       "'Saved titanic_top10_survival.html and titanic_top10_survival.csv'"
      ]
     },
     "execution_count": 229,
     "metadata": {},
     "output_type": "execute_result"
    }
   ],
   "source": [
    "top10 = grp.head(10).reset_index()\n",
    "sty = (top10.style.format({'surv_rate':'{:.2%}'}).hide(axis='index'))\n",
    "html = sty.to_html()\n",
    "open('titanic_top10_survival.html','w',encoding='utf-8').write(html)\n",
    "top10.to_csv('titanic_top10_survival.csv', index=False)\n",
    "\"Saved titanic_top10_survival.html and titanic_top10_survival.csv\""
   ]
  },
  {
   "cell_type": "markdown",
   "id": "bc341e6d",
   "metadata": {},
   "source": [
    "### ✍️ Analysis (Capstone — Titanic) — 3–5 sentences\n",
    "- State your main finding (who/when/context) with one number and one plot reference.\n",
    "- Name one limitation in your approach (bias, leakage, imputation).\n",
    "- Suggest a next step or feature to add.\n",
    "\n",
    "### 🔎 Quick checks\n",
    "- Link the exact cell/table backing your claim.\n",
    "- Confirm deliverables (HTML + CSV) were written.\n",
    "\n",
    "### ➕ Extension (pick one)\n",
    "- Add an extra feature (e.g., `is_child`, z-scored fare) and see if subgroup ranking changes.\n",
    "- Try a different minimum group size and discuss stability.\n",
    "\n",
    "**Rubric (10 pts):** Correctness 3 • Evidence 2 • Clarity 2 • Reproducibility 2 • Exploration 1\n",
    "\n",
    "---\n",
    "**— Answer —**\n",
    "After imputing ages by `sex`×`class` medians and filling `embark_town` with its mode, I engineered `family_size` and per-person fare (`fare_pp`). \n",
    "Larger families (≥4) show distinct survival patterns by sex and class, reflecting lifeboat priority and cabin location. \n",
    "Survival generally rises with higher fare per person, but the relationship is non-linear and confounded by class and embarkation. \n",
    "A limitation is simple imputation: it understates uncertainty and may bias downstream rates; multiple imputation would be more rigorous.\n"
   ]
  }
 ],
 "metadata": {
  "colab": {
   "name": "Pandas — Core + Advanced + Capstone (Base)"
  },
  "kernelspec": {
   "display_name": "Python 3",
   "language": "python",
   "name": "python3"
  },
  "language_info": {
   "codemirror_mode": {
    "name": "ipython",
    "version": 3
   },
   "file_extension": ".py",
   "mimetype": "text/x-python",
   "name": "python",
   "nbconvert_exporter": "python",
   "pygments_lexer": "ipython3",
   "version": "3.12.3"
  }
 },
 "nbformat": 4,
 "nbformat_minor": 5
}
